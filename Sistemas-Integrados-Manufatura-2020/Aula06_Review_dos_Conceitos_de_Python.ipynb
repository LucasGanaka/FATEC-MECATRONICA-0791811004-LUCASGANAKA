{
  "nbformat": 4,
  "nbformat_minor": 0,
  "metadata": {
    "colab": {
      "name": "Aula06-Review dos Conceitos de Python.ipynb",
      "provenance": [],
      "collapsed_sections": [],
      "authorship_tag": "ABX9TyOtpBv7mTWchqHKvO1Jm2hA",
      "include_colab_link": true
    },
    "kernelspec": {
      "name": "python3",
      "display_name": "Python 3"
    }
  },
  "cells": [
    {
      "cell_type": "markdown",
      "metadata": {
        "id": "view-in-github",
        "colab_type": "text"
      },
      "source": [
        "<a href=\"https://colab.research.google.com/github/LucasGanaka/FATEC-MECATRONICA-0791811004-LUCASGANAKA/blob/master/Aula06_Review_dos_Conceitos_de_Python.ipynb\" target=\"_parent\"><img src=\"https://colab.research.google.com/assets/colab-badge.svg\" alt=\"Open In Colab\"/></a>"
      ]
    },
    {
      "cell_type": "markdown",
      "metadata": {
        "id": "81cFcRGW-e1b",
        "colab_type": "text"
      },
      "source": [
        "# Primeiro codigo em python\n",
        "# Objetivos \n",
        "\n",
        "* ficar familiarizado com sintace de Python\n",
        "* conseguir utilizar estrutura de dados com Python\n",
        "* talvez utilizar Python com banco de dados\n",
        "* Criar classes com Python\n",
        "\n",
        "Células de texto no Colab são escritos em Markdown."
      ]
    },
    {
      "cell_type": "code",
      "metadata": {
        "id": "rnQ-DzWa9Or-",
        "colab_type": "code",
        "colab": {
          "base_uri": "https://localhost:8080/",
          "height": 50
        },
        "outputId": "e63cfa6b-e39a-4556-84bd-cb2a566bb09d"
      },
      "source": [
        "#Isso é um comentario de uma linha\n",
        "print('olá mundo!')\n",
        "print('Aqui denovo')\n",
        "#Atalhos\n",
        "#Ctrl + / = comentar/descomentar a linha ou bloco de linhas\n",
        "#Ctrl + Enter = executar a célula atual "
      ],
      "execution_count": 1,
      "outputs": [
        {
          "output_type": "stream",
          "text": [
            "olá mundo!\n",
            "Aqui denovo\n"
          ],
          "name": "stdout"
        }
      ]
    },
    {
      "cell_type": "code",
      "metadata": {
        "id": "0F7BDcGTAJHD",
        "colab_type": "code",
        "colab": {
          "base_uri": "https://localhost:8080/",
          "height": 84
        },
        "outputId": "946ce73b-f54e-4daf-cff5-f731f538f6ce"
      },
      "source": [
        "#Criar a variavél nome e atribuir 'Lucas' a elaa\n",
        "nome = 'Lucas'\n",
        "print(nome)\n",
        "print(type(nome))\n",
        "#O tipo das variaveis pode ser ajustado dinamicamente\n",
        "nome=42\n",
        "print(nome)\n",
        "#Verificar tipo da variavel\n",
        "print(type(nome))"
      ],
      "execution_count": 5,
      "outputs": [
        {
          "output_type": "stream",
          "text": [
            "Lucas\n",
            "<class 'str'>\n",
            "42\n",
            "<class 'int'>\n"
          ],
          "name": "stdout"
        }
      ]
    },
    {
      "cell_type": "code",
      "metadata": {
        "id": "ofI5eVrrAoRV",
        "colab_type": "code",
        "colab": {
          "base_uri": "https://localhost:8080/",
          "height": 50
        },
        "outputId": "68d86055-6ed2-4a91-8ab5-96148feafd2a"
      },
      "source": [
        "#Para realizar interação com usuario \n",
        "nome = input(\"informe seu nome:\")\n",
        "print(\"olá\",nome)"
      ],
      "execution_count": 6,
      "outputs": [
        {
          "output_type": "stream",
          "text": [
            "informe seu nome:Lucas \n",
            "olá Lucas \n"
          ],
          "name": "stdout"
        }
      ]
    },
    {
      "cell_type": "code",
      "metadata": {
        "id": "PoYVtFrABKbZ",
        "colab_type": "code",
        "colab": {}
      },
      "source": [
        "#A função input(), sempre retorna uma string (str)\n",
        "#Para converter para um valor numerico, utilizar:\n",
        "#int() - converter para inteiro\n",
        "#float() - converter para um numero real\n",
        "numero1 = int(input('Informe um valor: '))\n",
        "numero2 = float(input('Informe outro valor: '))\n",
        "resultado = numero1 + numero2\n",
        "print(resultado)\n",
        "print(type(resultado))"
      ],
      "execution_count": null,
      "outputs": []
    },
    {
      "cell_type": "code",
      "metadata": {
        "id": "tC0qAtFeB_bE",
        "colab_type": "code",
        "colab": {
          "base_uri": "https://localhost:8080/",
          "height": 34
        },
        "outputId": "585a92fa-2521-4b0c-e8fe-4d75e5709b4d"
      },
      "source": [
        "#composição de string\n",
        "nome = 'Goku'\n",
        "dia = 18\n",
        "mes = 9\n",
        "ano = 2020\n",
        "string1 = \"Olá %s tudo bem com vc? Hoje é dia %i do mes %i do ano %i\" %(nome,dia,mes,ano)\n",
        "#string2 = \"Essa formatação não depende do usuario saber os tipos{} foi colocado aqui e {} aqui\". format(nome,dia)\n",
        "string2 = \"Essa formatação não depende do usuario saber os tipos{} foi colocado aqui e {} aqui\". format(nome,dia)\n",
        "print(string2)"
      ],
      "execution_count": 12,
      "outputs": [
        {
          "output_type": "stream",
          "text": [
            "Essa formatação não depende do usuario saber os tiposGoku foi colocado aqui e 18 aqui\n"
          ],
          "name": "stdout"
        }
      ]
    },
    {
      "cell_type": "code",
      "metadata": {
        "id": "0zlztMtfDL_l",
        "colab_type": "code",
        "colab": {
          "base_uri": "https://localhost:8080/",
          "height": 50
        },
        "outputId": "24a5c1f1-2849-4081-dfaf-0937e0553ece"
      },
      "source": [
        "#Controla o fluxo de execulção dos códigos \n",
        "#Ele tem estruturas de decisão\n",
        "#E estruturas de repetição\n",
        "\n",
        "numero = 42 \n",
        "\n",
        "#verifica paridade do numero\n",
        "\n",
        "if numero % 2 == 0:\n",
        "  print('numero par!')\n",
        "else:\n",
        " print('numero impar')\n",
        "\n",
        "print('Será exibido de qualquer forma')"
      ],
      "execution_count": 14,
      "outputs": [
        {
          "output_type": "stream",
          "text": [
            "numero par!\n",
            "Será exibido de qualquer forma\n"
          ],
          "name": "stdout"
        }
      ]
    },
    {
      "cell_type": "code",
      "metadata": {
        "id": "eky1drcQD5dq",
        "colab_type": "code",
        "colab": {
          "base_uri": "https://localhost:8080/",
          "height": 67
        },
        "outputId": "96e13e48-231d-4c8a-da5e-38036d318df7"
      },
      "source": [
        "#Dados o valor e o numero de parcelas, calcular a parcela\n",
        "#Calculadora de parcela\n",
        "#1x -10%\n",
        "#2x   0%\n",
        "#3x  +5%\n",
        "#4x ou ++ +15%\n",
        "\n",
        "valor = float(input('digite o valor inteiro:'))\n",
        "quantidade_de_parcelas = int(input('digite quantidade de parcelas:'))\n",
        "\n",
        "#refatorar -  realizar alguma modificação no código com a finalidade de melhora-lo\n",
        "if quantidade_de_parcelas == 1:\n",
        "  modificador = 0.9\n",
        "elif quantidade_de_parcelas == 2:\n",
        "  modificador = 1\n",
        "elif quantidade_de_parcelas == 3:\n",
        "  modificador = 1.05\n",
        "else:\n",
        "  modificador = 1.15\n",
        "\n",
        "parcela = (valor*modificador) / quantidade_de_parcelas\n",
        "print(parcela)"
      ],
      "execution_count": 21,
      "outputs": [
        {
          "output_type": "stream",
          "text": [
            "digite o valor inteiro:100\n",
            "digite quantidade de parcelas:3\n",
            "35.0\n"
          ],
          "name": "stdout"
        }
      ]
    },
    {
      "cell_type": "code",
      "metadata": {
        "id": "-A0haCSmHEL9",
        "colab_type": "code",
        "colab": {
          "base_uri": "https://localhost:8080/",
          "height": 151
        },
        "outputId": "fb622031-a3d2-4330-ad71-bdcca2019f83"
      },
      "source": [
        "#criar uma função para determinar o valor da parcela \n",
        "def caucular_valor_parcela(valor, quantidade):\n",
        "  if quantidade == 1:\n",
        "     modificador = 0.9\n",
        "  elif quantidade == 2:\n",
        "    modificador = 1\n",
        "  elif quantidade == 3:\n",
        "    modificador = 1.05\n",
        "  else:\n",
        "    modificador = 1.15\n",
        "  return (valor*modificador) / quantidade\n",
        "\n",
        "#Repetir um código enquanto o usuario desejar\n",
        "continuar = True\n",
        "while continuar: \n",
        "  valor = float(input('digite o valor inteiro:'))\n",
        "  quantidades = int(input('digite quantidade de parcelas:'))\n",
        "\n",
        "  #refatorar -  realizar alguma modificação no código com a finalidade de melhora-lo\n",
        "  parcela = caucular_valor_parcela(valor, quantidade_de_parcelas)\n",
        "\n",
        "  print(parcela)\n",
        "\n",
        "  continuar = input('Deseja continuar(s/n)?') == 's'\n"
      ],
      "execution_count": 25,
      "outputs": [
        {
          "output_type": "stream",
          "text": [
            "digite o valor inteiro:100\n",
            "digite quantidade de parcelas:3\n",
            "35.0\n",
            "Deseja continuar(s/n)?s\n",
            "digite o valor inteiro:200\n",
            "digite quantidade de parcelas:6\n",
            "70.0\n",
            "Deseja continuar(s/n)?n\n"
          ],
          "name": "stdout"
        }
      ]
    },
    {
      "cell_type": "code",
      "metadata": {
        "id": "lATh8vJXJsrA",
        "colab_type": "code",
        "colab": {
          "base_uri": "https://localhost:8080/",
          "height": 235
        },
        "outputId": "e68fb258-d036-4560-c4f1-f17c14560480"
      },
      "source": [
        "import random \n",
        "\n",
        "#Listas - armazenam diversos valores de forma sequencial \n",
        "#criar lista vazia\n",
        "temperaturas = []\n",
        "quantidade = int(input('Informe a quantidade de temperaturas:'))\n",
        "\n",
        "#Enquanto a quantidade de temperaturas não for alcançada, continuar lendo valores\n",
        "\n",
        "while len(temperaturas) < quantidade:\n",
        "  #len() - conta quantidade de elementos que existem na nossa lista\n",
        "  #Adiciona um novo valor no fim da lista\n",
        "  temperaturas.append(random.randint(-10,95))\n",
        "print(\"Lista de temperaturas:\")\n",
        "print(temperaturas)\n",
        "print('Maior valor:', max(temperaturas))\n",
        "print('Menor valor:', min(temperaturas))\n",
        "print('Valor medio:', sum(temperaturas)/len(temperaturas))\n",
        "\n",
        "#Uso da estrutura for\n",
        "for temperatura in temperaturas:\n",
        "  print('Temperatura atual:', temperatura)\n",
        "  if temperatura > sum(temperaturas)/len(temperaturas):\n",
        "    print(\"Maior que a media\")\n",
        "  if temperatura < sum(temperaturas)/len(temperaturas):\n",
        "    print(\"Menor que a media\")\n",
        "  else:\n",
        "    print('Na media')"
      ],
      "execution_count": 39,
      "outputs": [
        {
          "output_type": "stream",
          "text": [
            "Informe a quantidade de temperaturas:3\n",
            "Lista de temperaturas:\n",
            "[58, 55, 55]\n",
            "Maior valor: 58\n",
            "Menor valor: 55\n",
            "Valor medio: 56.0\n",
            "Temperatura atual: 58\n",
            "Maior que a media\n",
            "Na media\n",
            "Temperatura atual: 55\n",
            "Menor que a media\n",
            "Temperatura atual: 55\n",
            "Menor que a media\n"
          ],
          "name": "stdout"
        }
      ]
    },
    {
      "cell_type": "code",
      "metadata": {
        "id": "gxEH8zVJNGP3",
        "colab_type": "code",
        "colab": {
          "base_uri": "https://localhost:8080/",
          "height": 34
        },
        "outputId": "98bd1ebe-52f7-4453-9420-9886fa7d9396"
      },
      "source": [
        "#Dicionarios \n",
        "personagem1 = {'nome':'prof_carvalho','hp':100, 'atk':12, 'def':8, 'speed': 30}\n",
        "personagem2 = {'nome':'prof_pinheiro','hp':10, 'atk':2, 'def':1, 'speed': 3}\n",
        "\n",
        "print(\"Nome do personagem:\", personagem2['nome'])"
      ],
      "execution_count": 40,
      "outputs": [
        {
          "output_type": "stream",
          "text": [
            "Nome do personagem: prof_pinheiro\n"
          ],
          "name": "stdout"
        }
      ]
    },
    {
      "cell_type": "code",
      "metadata": {
        "id": "bfuTm7jtOMlt",
        "colab_type": "code",
        "colab": {
          "base_uri": "https://localhost:8080/",
          "height": 67
        },
        "outputId": "54b3b524-f05e-49e3-de11-cc046a6eff3d"
      },
      "source": [
        "#Dados o valor e o numero de parcelas, calcular a parcela\n",
        "#Calculadora de parcela\n",
        "#1x -10%\n",
        "#2x   0%\n",
        "#3x  +5%\n",
        "#4x ou ++ +15%\n",
        "\n",
        "valor = float(input('digite o valor inteiro:'))\n",
        "quantidade_de_parcelas = int(input('digite quantidade de parcelas:'))\n",
        "modificador = {1: 0.95, 2:1, 3:1.05}\n",
        "#refatorar -  realizar alguma modificação no código com a finalidade de melhora-lo\n",
        "# parcela = (valor*modificador[quantidade_de_parcelas] / quantidade_de_parcelas #Pode dar KeyError se não existir a chave)\n",
        "\n",
        "parcela = (valor*modificador.get(quantidade_de_parcelas, 1.15))/ quantidade_de_parcelas\n",
        "\n",
        "print(parcela)"
      ],
      "execution_count": 42,
      "outputs": [
        {
          "output_type": "stream",
          "text": [
            "digite o valor inteiro:100\n",
            "digite quantidade de parcelas:4\n",
            "28.749999999999996\n"
          ],
          "name": "stdout"
        }
      ]
    },
    {
      "cell_type": "markdown",
      "metadata": {
        "id": "tpvbygMkTmUL",
        "colab_type": "text"
      },
      "source": [
        "#Orientação a Objetos\n",
        "paradigma de programação que cria estruturas de dados chamadas classes, para descrever o funcionamento dos elementos do sistema\n",
        "\n",
        "Toda a programação O.O. está funsamentada em 4 Pilares:\n",
        "- Abstração\n",
        "- Encapsulamento\n",
        "- Herança\n",
        "- Polimorfismo\n",
        "\n",
        "Existem diversas que trabalham com esse paradigma, como Java, C#, Dart, Python, C++. \n",
        "\n",
        "*CUIDADO:* O.O. não quer dizer interface gráfica!\n",
        "\n",
        "Se possível, verificar esses videos:\n",
        "\n",
        "- https://www.youtube.com/watch?v=QY0Kdg83orY\n",
        "- https://www.youtube.com/watch?v=dWqIOSXvw0M\n",
        "- https://www.youtube.com/watch?v=s1oko_DmbZI\n"
      ]
    },
    {
      "cell_type": "code",
      "metadata": {
        "id": "QzwBfKodUysn",
        "colab_type": "code",
        "colab": {}
      },
      "source": [
        "#Definindo classe pessoa\n",
        "class Pessoa():\n",
        "  def __init__(self, nome, cpf, email, alimentacao, profissao):\n",
        "    self.nome = nome\n",
        "    self.cpf = cpf\n",
        "    self.email = email\n",
        "    self.alimentação = alimentacao \n",
        "    self.profissão = profissao\n",
        "\n",
        "  def falar(self):\n",
        "    print('oi')\n",
        "  def apresentar(self):\n",
        "    print('oi meu nome é', self.nome)\n",
        "  def dormir(self):\n",
        "    pass\n",
        "  def cmer(self):\n",
        "    pass\n"
      ],
      "execution_count": 57,
      "outputs": []
    },
    {
      "cell_type": "code",
      "metadata": {
        "id": "dQuY2FQBaEZO",
        "colab_type": "code",
        "colab": {
          "base_uri": "https://localhost:8080/",
          "height": 67
        },
        "outputId": "d41b8ebb-e5e0-47ca-dd4b-955d50629422"
      },
      "source": [
        "#Criar objetos do tipo pessoa\n",
        "p1 = Pessoa('Jorge', '12345678901', 'jorgao@bol.com.br', 'onivaro', 'telemarkting')\n",
        "p2 = Pessoa('Dalila','09876543210', 'lila_lila@gmail.com', 'vegana', 'professora')\n",
        "#Chamar o comportamento falar()\n",
        "p1.falar()\n",
        "p2.falar()\n",
        "p2.apresentar()"
      ],
      "execution_count": 58,
      "outputs": [
        {
          "output_type": "stream",
          "text": [
            "oi\n",
            "oi\n",
            "oi meu nome é Dalila\n"
          ],
          "name": "stdout"
        }
      ]
    },
    {
      "cell_type": "code",
      "metadata": {
        "id": "GmautHk8c_bd",
        "colab_type": "code",
        "colab": {}
      },
      "source": [
        "#Consumindo os dados de: https://pokeapi.co/\n",
        "#chamada de API:https://pokeapi.co/api/v2/pokemon?limit=25"
      ],
      "execution_count": null,
      "outputs": []
    },
    {
      "cell_type": "code",
      "metadata": {
        "id": "2uQnHPT4dz2y",
        "colab_type": "code",
        "colab": {}
      },
      "source": [
        "class Pokemon():\n",
        "  #Construtor\n",
        "  def __init__(self, name, hp, attack, defense, special_attack, special_defense, speed, url):\n",
        "    self.name = name\n",
        "    self.hp = hp\n",
        "    self.attack = attack\n",
        "    self.defense = defense\n",
        "    self.special_attack = special_attack\n",
        "    self.special_defense = special_defense\n",
        "    self.speed = speed\n",
        "    self.url = url\n",
        "  def show_data(self):\n",
        "    print('name:{},hp: {} attack:{}, defense:{}, special_attack:{}, special_defense:{}, speed:{}, url:{}'.format( \\\n",
        "    self.name, self.hp, self.attack, self.defense, self.special_attack, self.special_defense, self.speed, self.url))"
      ],
      "execution_count": 69,
      "outputs": []
    },
    {
      "cell_type": "code",
      "metadata": {
        "id": "8Nc1i7fafTJX",
        "colab_type": "code",
        "colab": {
          "base_uri": "https://localhost:8080/",
          "height": 34
        },
        "outputId": "dbdf5097-d9b3-4edf-b961-012add795396"
      },
      "source": [
        "p1 = Pokemon('Pikachu',40,1,2,3,4,5,'ola')\n",
        "p1.show_data()"
      ],
      "execution_count": 70,
      "outputs": [
        {
          "output_type": "stream",
          "text": [
            "name:Pikachu,hp: 40 attack:1, defense:2, special_attack:3, special_defense:4, speed:5, url:ola\n"
          ],
          "name": "stdout"
        }
      ]
    },
    {
      "cell_type": "code",
      "metadata": {
        "id": "2LZH-ekgf1mg",
        "colab_type": "code",
        "colab": {}
      },
      "source": [
        "#Realiza a requisição HTTP para a API\n",
        "import requests\n",
        "base_api_url = 'https://pokeapi.co/api/v2/pokemon?limit=151'\n",
        "poke_agenda = []\n",
        "dados_brutos = requests.get(base_api_url)\n",
        "if dados_brutos.status_code >= 200 and dados_brutos.status_code < 300:\n",
        "  # print(dados_brutos.json()['results'])\n",
        "  for informacao in dados_brutos.json()['results']:\n",
        "    # print(informacao)\n",
        "    dados_brutos_pokemon = requests.get(informacao['url'])\n",
        "    if dados_brutos_pokemon.status_code >= 200 and dados_brutos_pokemon.status_code < 300:\n",
        "      # print(dados_brutos_pokemon.json())\n",
        "      pokemon_data = dados_brutos_pokemon.json()\n",
        "      pokemon = Pokemon(name= pokemon_data['name'],\n",
        "                        hp=pokemon_data['stats'][0]['base_stat'],\n",
        "                        attack=pokemon_data['stats'][1]['base_stat'],\n",
        "                        defense=pokemon_data['stats'][2]['base_stat'],\n",
        "                        special_attack=pokemon_data['stats'][3]['base_stat'],\n",
        "                        special_defense=pokemon_data['stats'][4]['base_stat'],\n",
        "                        speed=pokemon_data['stats'][5]['base_stat'],\n",
        "                        url=pokemon_data['sprites']['front_default'])\n",
        "      poke_agenda.append(pokemon)"
      ],
      "execution_count": 71,
      "outputs": []
    },
    {
      "cell_type": "code",
      "metadata": {
        "id": "DvojZwfRnEJF",
        "colab_type": "code",
        "colab": {
          "base_uri": "https://localhost:8080/",
          "height": 1000
        },
        "outputId": "071d8559-c27e-4447-dd4a-264eb647088c"
      },
      "source": [
        "for pokemon in poke_agenda:\n",
        "  pokemon.show_data()"
      ],
      "execution_count": 72,
      "outputs": [
        {
          "output_type": "stream",
          "text": [
            "name:bulbasaur,hp: 45 attack:49, defense:49, special_attack:65, special_defense:65, speed:45, url:https://raw.githubusercontent.com/PokeAPI/sprites/master/sprites/pokemon/1.png\n",
            "name:ivysaur,hp: 60 attack:62, defense:63, special_attack:80, special_defense:80, speed:60, url:https://raw.githubusercontent.com/PokeAPI/sprites/master/sprites/pokemon/2.png\n",
            "name:venusaur,hp: 80 attack:82, defense:83, special_attack:100, special_defense:100, speed:80, url:https://raw.githubusercontent.com/PokeAPI/sprites/master/sprites/pokemon/3.png\n",
            "name:charmander,hp: 39 attack:52, defense:43, special_attack:60, special_defense:50, speed:65, url:https://raw.githubusercontent.com/PokeAPI/sprites/master/sprites/pokemon/4.png\n",
            "name:charmeleon,hp: 58 attack:64, defense:58, special_attack:80, special_defense:65, speed:80, url:https://raw.githubusercontent.com/PokeAPI/sprites/master/sprites/pokemon/5.png\n",
            "name:charizard,hp: 78 attack:84, defense:78, special_attack:109, special_defense:85, speed:100, url:https://raw.githubusercontent.com/PokeAPI/sprites/master/sprites/pokemon/6.png\n",
            "name:squirtle,hp: 44 attack:48, defense:65, special_attack:50, special_defense:64, speed:43, url:https://raw.githubusercontent.com/PokeAPI/sprites/master/sprites/pokemon/7.png\n",
            "name:wartortle,hp: 59 attack:63, defense:80, special_attack:65, special_defense:80, speed:58, url:https://raw.githubusercontent.com/PokeAPI/sprites/master/sprites/pokemon/8.png\n",
            "name:blastoise,hp: 79 attack:83, defense:100, special_attack:85, special_defense:105, speed:78, url:https://raw.githubusercontent.com/PokeAPI/sprites/master/sprites/pokemon/9.png\n",
            "name:caterpie,hp: 45 attack:30, defense:35, special_attack:20, special_defense:20, speed:45, url:https://raw.githubusercontent.com/PokeAPI/sprites/master/sprites/pokemon/10.png\n",
            "name:metapod,hp: 50 attack:20, defense:55, special_attack:25, special_defense:25, speed:30, url:https://raw.githubusercontent.com/PokeAPI/sprites/master/sprites/pokemon/11.png\n",
            "name:butterfree,hp: 60 attack:45, defense:50, special_attack:90, special_defense:80, speed:70, url:https://raw.githubusercontent.com/PokeAPI/sprites/master/sprites/pokemon/12.png\n",
            "name:weedle,hp: 40 attack:35, defense:30, special_attack:20, special_defense:20, speed:50, url:https://raw.githubusercontent.com/PokeAPI/sprites/master/sprites/pokemon/13.png\n",
            "name:kakuna,hp: 45 attack:25, defense:50, special_attack:25, special_defense:25, speed:35, url:https://raw.githubusercontent.com/PokeAPI/sprites/master/sprites/pokemon/14.png\n",
            "name:beedrill,hp: 65 attack:90, defense:40, special_attack:45, special_defense:80, speed:75, url:https://raw.githubusercontent.com/PokeAPI/sprites/master/sprites/pokemon/15.png\n",
            "name:pidgey,hp: 40 attack:45, defense:40, special_attack:35, special_defense:35, speed:56, url:https://raw.githubusercontent.com/PokeAPI/sprites/master/sprites/pokemon/16.png\n",
            "name:pidgeotto,hp: 63 attack:60, defense:55, special_attack:50, special_defense:50, speed:71, url:https://raw.githubusercontent.com/PokeAPI/sprites/master/sprites/pokemon/17.png\n",
            "name:pidgeot,hp: 83 attack:80, defense:75, special_attack:70, special_defense:70, speed:101, url:https://raw.githubusercontent.com/PokeAPI/sprites/master/sprites/pokemon/18.png\n",
            "name:rattata,hp: 30 attack:56, defense:35, special_attack:25, special_defense:35, speed:72, url:https://raw.githubusercontent.com/PokeAPI/sprites/master/sprites/pokemon/19.png\n",
            "name:raticate,hp: 55 attack:81, defense:60, special_attack:50, special_defense:70, speed:97, url:https://raw.githubusercontent.com/PokeAPI/sprites/master/sprites/pokemon/20.png\n",
            "name:spearow,hp: 40 attack:60, defense:30, special_attack:31, special_defense:31, speed:70, url:https://raw.githubusercontent.com/PokeAPI/sprites/master/sprites/pokemon/21.png\n",
            "name:fearow,hp: 65 attack:90, defense:65, special_attack:61, special_defense:61, speed:100, url:https://raw.githubusercontent.com/PokeAPI/sprites/master/sprites/pokemon/22.png\n",
            "name:ekans,hp: 35 attack:60, defense:44, special_attack:40, special_defense:54, speed:55, url:https://raw.githubusercontent.com/PokeAPI/sprites/master/sprites/pokemon/23.png\n",
            "name:arbok,hp: 60 attack:95, defense:69, special_attack:65, special_defense:79, speed:80, url:https://raw.githubusercontent.com/PokeAPI/sprites/master/sprites/pokemon/24.png\n",
            "name:pikachu,hp: 35 attack:55, defense:40, special_attack:50, special_defense:50, speed:90, url:https://raw.githubusercontent.com/PokeAPI/sprites/master/sprites/pokemon/25.png\n",
            "name:raichu,hp: 60 attack:90, defense:55, special_attack:90, special_defense:80, speed:110, url:https://raw.githubusercontent.com/PokeAPI/sprites/master/sprites/pokemon/26.png\n",
            "name:sandshrew,hp: 50 attack:75, defense:85, special_attack:20, special_defense:30, speed:40, url:https://raw.githubusercontent.com/PokeAPI/sprites/master/sprites/pokemon/27.png\n",
            "name:sandslash,hp: 75 attack:100, defense:110, special_attack:45, special_defense:55, speed:65, url:https://raw.githubusercontent.com/PokeAPI/sprites/master/sprites/pokemon/28.png\n",
            "name:nidoran-f,hp: 55 attack:47, defense:52, special_attack:40, special_defense:40, speed:41, url:https://raw.githubusercontent.com/PokeAPI/sprites/master/sprites/pokemon/29.png\n",
            "name:nidorina,hp: 70 attack:62, defense:67, special_attack:55, special_defense:55, speed:56, url:https://raw.githubusercontent.com/PokeAPI/sprites/master/sprites/pokemon/30.png\n",
            "name:nidoqueen,hp: 90 attack:92, defense:87, special_attack:75, special_defense:85, speed:76, url:https://raw.githubusercontent.com/PokeAPI/sprites/master/sprites/pokemon/31.png\n",
            "name:nidoran-m,hp: 46 attack:57, defense:40, special_attack:40, special_defense:40, speed:50, url:https://raw.githubusercontent.com/PokeAPI/sprites/master/sprites/pokemon/32.png\n",
            "name:nidorino,hp: 61 attack:72, defense:57, special_attack:55, special_defense:55, speed:65, url:https://raw.githubusercontent.com/PokeAPI/sprites/master/sprites/pokemon/33.png\n",
            "name:nidoking,hp: 81 attack:102, defense:77, special_attack:85, special_defense:75, speed:85, url:https://raw.githubusercontent.com/PokeAPI/sprites/master/sprites/pokemon/34.png\n",
            "name:clefairy,hp: 70 attack:45, defense:48, special_attack:60, special_defense:65, speed:35, url:https://raw.githubusercontent.com/PokeAPI/sprites/master/sprites/pokemon/35.png\n",
            "name:clefable,hp: 95 attack:70, defense:73, special_attack:95, special_defense:90, speed:60, url:https://raw.githubusercontent.com/PokeAPI/sprites/master/sprites/pokemon/36.png\n",
            "name:vulpix,hp: 38 attack:41, defense:40, special_attack:50, special_defense:65, speed:65, url:https://raw.githubusercontent.com/PokeAPI/sprites/master/sprites/pokemon/37.png\n",
            "name:ninetales,hp: 73 attack:76, defense:75, special_attack:81, special_defense:100, speed:100, url:https://raw.githubusercontent.com/PokeAPI/sprites/master/sprites/pokemon/38.png\n",
            "name:jigglypuff,hp: 115 attack:45, defense:20, special_attack:45, special_defense:25, speed:20, url:https://raw.githubusercontent.com/PokeAPI/sprites/master/sprites/pokemon/39.png\n",
            "name:wigglytuff,hp: 140 attack:70, defense:45, special_attack:85, special_defense:50, speed:45, url:https://raw.githubusercontent.com/PokeAPI/sprites/master/sprites/pokemon/40.png\n",
            "name:zubat,hp: 40 attack:45, defense:35, special_attack:30, special_defense:40, speed:55, url:https://raw.githubusercontent.com/PokeAPI/sprites/master/sprites/pokemon/41.png\n",
            "name:golbat,hp: 75 attack:80, defense:70, special_attack:65, special_defense:75, speed:90, url:https://raw.githubusercontent.com/PokeAPI/sprites/master/sprites/pokemon/42.png\n",
            "name:oddish,hp: 45 attack:50, defense:55, special_attack:75, special_defense:65, speed:30, url:https://raw.githubusercontent.com/PokeAPI/sprites/master/sprites/pokemon/43.png\n",
            "name:gloom,hp: 60 attack:65, defense:70, special_attack:85, special_defense:75, speed:40, url:https://raw.githubusercontent.com/PokeAPI/sprites/master/sprites/pokemon/44.png\n",
            "name:vileplume,hp: 75 attack:80, defense:85, special_attack:110, special_defense:90, speed:50, url:https://raw.githubusercontent.com/PokeAPI/sprites/master/sprites/pokemon/45.png\n",
            "name:paras,hp: 35 attack:70, defense:55, special_attack:45, special_defense:55, speed:25, url:https://raw.githubusercontent.com/PokeAPI/sprites/master/sprites/pokemon/46.png\n",
            "name:parasect,hp: 60 attack:95, defense:80, special_attack:60, special_defense:80, speed:30, url:https://raw.githubusercontent.com/PokeAPI/sprites/master/sprites/pokemon/47.png\n",
            "name:venonat,hp: 60 attack:55, defense:50, special_attack:40, special_defense:55, speed:45, url:https://raw.githubusercontent.com/PokeAPI/sprites/master/sprites/pokemon/48.png\n",
            "name:venomoth,hp: 70 attack:65, defense:60, special_attack:90, special_defense:75, speed:90, url:https://raw.githubusercontent.com/PokeAPI/sprites/master/sprites/pokemon/49.png\n",
            "name:diglett,hp: 10 attack:55, defense:25, special_attack:35, special_defense:45, speed:95, url:https://raw.githubusercontent.com/PokeAPI/sprites/master/sprites/pokemon/50.png\n",
            "name:dugtrio,hp: 35 attack:100, defense:50, special_attack:50, special_defense:70, speed:120, url:https://raw.githubusercontent.com/PokeAPI/sprites/master/sprites/pokemon/51.png\n",
            "name:meowth,hp: 40 attack:45, defense:35, special_attack:40, special_defense:40, speed:90, url:https://raw.githubusercontent.com/PokeAPI/sprites/master/sprites/pokemon/52.png\n",
            "name:persian,hp: 65 attack:70, defense:60, special_attack:65, special_defense:65, speed:115, url:https://raw.githubusercontent.com/PokeAPI/sprites/master/sprites/pokemon/53.png\n",
            "name:psyduck,hp: 50 attack:52, defense:48, special_attack:65, special_defense:50, speed:55, url:https://raw.githubusercontent.com/PokeAPI/sprites/master/sprites/pokemon/54.png\n",
            "name:golduck,hp: 80 attack:82, defense:78, special_attack:95, special_defense:80, speed:85, url:https://raw.githubusercontent.com/PokeAPI/sprites/master/sprites/pokemon/55.png\n",
            "name:mankey,hp: 40 attack:80, defense:35, special_attack:35, special_defense:45, speed:70, url:https://raw.githubusercontent.com/PokeAPI/sprites/master/sprites/pokemon/56.png\n",
            "name:primeape,hp: 65 attack:105, defense:60, special_attack:60, special_defense:70, speed:95, url:https://raw.githubusercontent.com/PokeAPI/sprites/master/sprites/pokemon/57.png\n",
            "name:growlithe,hp: 55 attack:70, defense:45, special_attack:70, special_defense:50, speed:60, url:https://raw.githubusercontent.com/PokeAPI/sprites/master/sprites/pokemon/58.png\n",
            "name:arcanine,hp: 90 attack:110, defense:80, special_attack:100, special_defense:80, speed:95, url:https://raw.githubusercontent.com/PokeAPI/sprites/master/sprites/pokemon/59.png\n",
            "name:poliwag,hp: 40 attack:50, defense:40, special_attack:40, special_defense:40, speed:90, url:https://raw.githubusercontent.com/PokeAPI/sprites/master/sprites/pokemon/60.png\n",
            "name:poliwhirl,hp: 65 attack:65, defense:65, special_attack:50, special_defense:50, speed:90, url:https://raw.githubusercontent.com/PokeAPI/sprites/master/sprites/pokemon/61.png\n",
            "name:poliwrath,hp: 90 attack:95, defense:95, special_attack:70, special_defense:90, speed:70, url:https://raw.githubusercontent.com/PokeAPI/sprites/master/sprites/pokemon/62.png\n",
            "name:abra,hp: 25 attack:20, defense:15, special_attack:105, special_defense:55, speed:90, url:https://raw.githubusercontent.com/PokeAPI/sprites/master/sprites/pokemon/63.png\n",
            "name:kadabra,hp: 40 attack:35, defense:30, special_attack:120, special_defense:70, speed:105, url:https://raw.githubusercontent.com/PokeAPI/sprites/master/sprites/pokemon/64.png\n",
            "name:alakazam,hp: 55 attack:50, defense:45, special_attack:135, special_defense:95, speed:120, url:https://raw.githubusercontent.com/PokeAPI/sprites/master/sprites/pokemon/65.png\n",
            "name:machop,hp: 70 attack:80, defense:50, special_attack:35, special_defense:35, speed:35, url:https://raw.githubusercontent.com/PokeAPI/sprites/master/sprites/pokemon/66.png\n",
            "name:machoke,hp: 80 attack:100, defense:70, special_attack:50, special_defense:60, speed:45, url:https://raw.githubusercontent.com/PokeAPI/sprites/master/sprites/pokemon/67.png\n",
            "name:machamp,hp: 90 attack:130, defense:80, special_attack:65, special_defense:85, speed:55, url:https://raw.githubusercontent.com/PokeAPI/sprites/master/sprites/pokemon/68.png\n",
            "name:bellsprout,hp: 50 attack:75, defense:35, special_attack:70, special_defense:30, speed:40, url:https://raw.githubusercontent.com/PokeAPI/sprites/master/sprites/pokemon/69.png\n",
            "name:weepinbell,hp: 65 attack:90, defense:50, special_attack:85, special_defense:45, speed:55, url:https://raw.githubusercontent.com/PokeAPI/sprites/master/sprites/pokemon/70.png\n",
            "name:victreebel,hp: 80 attack:105, defense:65, special_attack:100, special_defense:70, speed:70, url:https://raw.githubusercontent.com/PokeAPI/sprites/master/sprites/pokemon/71.png\n",
            "name:tentacool,hp: 40 attack:40, defense:35, special_attack:50, special_defense:100, speed:70, url:https://raw.githubusercontent.com/PokeAPI/sprites/master/sprites/pokemon/72.png\n",
            "name:tentacruel,hp: 80 attack:70, defense:65, special_attack:80, special_defense:120, speed:100, url:https://raw.githubusercontent.com/PokeAPI/sprites/master/sprites/pokemon/73.png\n",
            "name:geodude,hp: 40 attack:80, defense:100, special_attack:30, special_defense:30, speed:20, url:https://raw.githubusercontent.com/PokeAPI/sprites/master/sprites/pokemon/74.png\n",
            "name:graveler,hp: 55 attack:95, defense:115, special_attack:45, special_defense:45, speed:35, url:https://raw.githubusercontent.com/PokeAPI/sprites/master/sprites/pokemon/75.png\n",
            "name:golem,hp: 80 attack:120, defense:130, special_attack:55, special_defense:65, speed:45, url:https://raw.githubusercontent.com/PokeAPI/sprites/master/sprites/pokemon/76.png\n",
            "name:ponyta,hp: 50 attack:85, defense:55, special_attack:65, special_defense:65, speed:90, url:https://raw.githubusercontent.com/PokeAPI/sprites/master/sprites/pokemon/77.png\n",
            "name:rapidash,hp: 65 attack:100, defense:70, special_attack:80, special_defense:80, speed:105, url:https://raw.githubusercontent.com/PokeAPI/sprites/master/sprites/pokemon/78.png\n",
            "name:slowpoke,hp: 90 attack:65, defense:65, special_attack:40, special_defense:40, speed:15, url:https://raw.githubusercontent.com/PokeAPI/sprites/master/sprites/pokemon/79.png\n",
            "name:slowbro,hp: 95 attack:75, defense:110, special_attack:100, special_defense:80, speed:30, url:https://raw.githubusercontent.com/PokeAPI/sprites/master/sprites/pokemon/80.png\n",
            "name:magnemite,hp: 25 attack:35, defense:70, special_attack:95, special_defense:55, speed:45, url:https://raw.githubusercontent.com/PokeAPI/sprites/master/sprites/pokemon/81.png\n",
            "name:magneton,hp: 50 attack:60, defense:95, special_attack:120, special_defense:70, speed:70, url:https://raw.githubusercontent.com/PokeAPI/sprites/master/sprites/pokemon/82.png\n",
            "name:farfetchd,hp: 52 attack:90, defense:55, special_attack:58, special_defense:62, speed:60, url:https://raw.githubusercontent.com/PokeAPI/sprites/master/sprites/pokemon/83.png\n",
            "name:doduo,hp: 35 attack:85, defense:45, special_attack:35, special_defense:35, speed:75, url:https://raw.githubusercontent.com/PokeAPI/sprites/master/sprites/pokemon/84.png\n",
            "name:dodrio,hp: 60 attack:110, defense:70, special_attack:60, special_defense:60, speed:110, url:https://raw.githubusercontent.com/PokeAPI/sprites/master/sprites/pokemon/85.png\n",
            "name:seel,hp: 65 attack:45, defense:55, special_attack:45, special_defense:70, speed:45, url:https://raw.githubusercontent.com/PokeAPI/sprites/master/sprites/pokemon/86.png\n",
            "name:dewgong,hp: 90 attack:70, defense:80, special_attack:70, special_defense:95, speed:70, url:https://raw.githubusercontent.com/PokeAPI/sprites/master/sprites/pokemon/87.png\n",
            "name:grimer,hp: 80 attack:80, defense:50, special_attack:40, special_defense:50, speed:25, url:https://raw.githubusercontent.com/PokeAPI/sprites/master/sprites/pokemon/88.png\n",
            "name:muk,hp: 105 attack:105, defense:75, special_attack:65, special_defense:100, speed:50, url:https://raw.githubusercontent.com/PokeAPI/sprites/master/sprites/pokemon/89.png\n",
            "name:shellder,hp: 30 attack:65, defense:100, special_attack:45, special_defense:25, speed:40, url:https://raw.githubusercontent.com/PokeAPI/sprites/master/sprites/pokemon/90.png\n",
            "name:cloyster,hp: 50 attack:95, defense:180, special_attack:85, special_defense:45, speed:70, url:https://raw.githubusercontent.com/PokeAPI/sprites/master/sprites/pokemon/91.png\n",
            "name:gastly,hp: 30 attack:35, defense:30, special_attack:100, special_defense:35, speed:80, url:https://raw.githubusercontent.com/PokeAPI/sprites/master/sprites/pokemon/92.png\n",
            "name:haunter,hp: 45 attack:50, defense:45, special_attack:115, special_defense:55, speed:95, url:https://raw.githubusercontent.com/PokeAPI/sprites/master/sprites/pokemon/93.png\n",
            "name:gengar,hp: 60 attack:65, defense:60, special_attack:130, special_defense:75, speed:110, url:https://raw.githubusercontent.com/PokeAPI/sprites/master/sprites/pokemon/94.png\n",
            "name:onix,hp: 35 attack:45, defense:160, special_attack:30, special_defense:45, speed:70, url:https://raw.githubusercontent.com/PokeAPI/sprites/master/sprites/pokemon/95.png\n",
            "name:drowzee,hp: 60 attack:48, defense:45, special_attack:43, special_defense:90, speed:42, url:https://raw.githubusercontent.com/PokeAPI/sprites/master/sprites/pokemon/96.png\n",
            "name:hypno,hp: 85 attack:73, defense:70, special_attack:73, special_defense:115, speed:67, url:https://raw.githubusercontent.com/PokeAPI/sprites/master/sprites/pokemon/97.png\n",
            "name:krabby,hp: 30 attack:105, defense:90, special_attack:25, special_defense:25, speed:50, url:https://raw.githubusercontent.com/PokeAPI/sprites/master/sprites/pokemon/98.png\n",
            "name:kingler,hp: 55 attack:130, defense:115, special_attack:50, special_defense:50, speed:75, url:https://raw.githubusercontent.com/PokeAPI/sprites/master/sprites/pokemon/99.png\n",
            "name:voltorb,hp: 40 attack:30, defense:50, special_attack:55, special_defense:55, speed:100, url:https://raw.githubusercontent.com/PokeAPI/sprites/master/sprites/pokemon/100.png\n",
            "name:electrode,hp: 60 attack:50, defense:70, special_attack:80, special_defense:80, speed:150, url:https://raw.githubusercontent.com/PokeAPI/sprites/master/sprites/pokemon/101.png\n",
            "name:exeggcute,hp: 60 attack:40, defense:80, special_attack:60, special_defense:45, speed:40, url:https://raw.githubusercontent.com/PokeAPI/sprites/master/sprites/pokemon/102.png\n",
            "name:exeggutor,hp: 95 attack:95, defense:85, special_attack:125, special_defense:75, speed:55, url:https://raw.githubusercontent.com/PokeAPI/sprites/master/sprites/pokemon/103.png\n",
            "name:cubone,hp: 50 attack:50, defense:95, special_attack:40, special_defense:50, speed:35, url:https://raw.githubusercontent.com/PokeAPI/sprites/master/sprites/pokemon/104.png\n",
            "name:marowak,hp: 60 attack:80, defense:110, special_attack:50, special_defense:80, speed:45, url:https://raw.githubusercontent.com/PokeAPI/sprites/master/sprites/pokemon/105.png\n",
            "name:hitmonlee,hp: 50 attack:120, defense:53, special_attack:35, special_defense:110, speed:87, url:https://raw.githubusercontent.com/PokeAPI/sprites/master/sprites/pokemon/106.png\n",
            "name:hitmonchan,hp: 50 attack:105, defense:79, special_attack:35, special_defense:110, speed:76, url:https://raw.githubusercontent.com/PokeAPI/sprites/master/sprites/pokemon/107.png\n",
            "name:lickitung,hp: 90 attack:55, defense:75, special_attack:60, special_defense:75, speed:30, url:https://raw.githubusercontent.com/PokeAPI/sprites/master/sprites/pokemon/108.png\n",
            "name:koffing,hp: 40 attack:65, defense:95, special_attack:60, special_defense:45, speed:35, url:https://raw.githubusercontent.com/PokeAPI/sprites/master/sprites/pokemon/109.png\n",
            "name:weezing,hp: 65 attack:90, defense:120, special_attack:85, special_defense:70, speed:60, url:https://raw.githubusercontent.com/PokeAPI/sprites/master/sprites/pokemon/110.png\n",
            "name:rhyhorn,hp: 80 attack:85, defense:95, special_attack:30, special_defense:30, speed:25, url:https://raw.githubusercontent.com/PokeAPI/sprites/master/sprites/pokemon/111.png\n",
            "name:rhydon,hp: 105 attack:130, defense:120, special_attack:45, special_defense:45, speed:40, url:https://raw.githubusercontent.com/PokeAPI/sprites/master/sprites/pokemon/112.png\n",
            "name:chansey,hp: 250 attack:5, defense:5, special_attack:35, special_defense:105, speed:50, url:https://raw.githubusercontent.com/PokeAPI/sprites/master/sprites/pokemon/113.png\n",
            "name:tangela,hp: 65 attack:55, defense:115, special_attack:100, special_defense:40, speed:60, url:https://raw.githubusercontent.com/PokeAPI/sprites/master/sprites/pokemon/114.png\n",
            "name:kangaskhan,hp: 105 attack:95, defense:80, special_attack:40, special_defense:80, speed:90, url:https://raw.githubusercontent.com/PokeAPI/sprites/master/sprites/pokemon/115.png\n",
            "name:horsea,hp: 30 attack:40, defense:70, special_attack:70, special_defense:25, speed:60, url:https://raw.githubusercontent.com/PokeAPI/sprites/master/sprites/pokemon/116.png\n",
            "name:seadra,hp: 55 attack:65, defense:95, special_attack:95, special_defense:45, speed:85, url:https://raw.githubusercontent.com/PokeAPI/sprites/master/sprites/pokemon/117.png\n",
            "name:goldeen,hp: 45 attack:67, defense:60, special_attack:35, special_defense:50, speed:63, url:https://raw.githubusercontent.com/PokeAPI/sprites/master/sprites/pokemon/118.png\n",
            "name:seaking,hp: 80 attack:92, defense:65, special_attack:65, special_defense:80, speed:68, url:https://raw.githubusercontent.com/PokeAPI/sprites/master/sprites/pokemon/119.png\n",
            "name:staryu,hp: 30 attack:45, defense:55, special_attack:70, special_defense:55, speed:85, url:https://raw.githubusercontent.com/PokeAPI/sprites/master/sprites/pokemon/120.png\n",
            "name:starmie,hp: 60 attack:75, defense:85, special_attack:100, special_defense:85, speed:115, url:https://raw.githubusercontent.com/PokeAPI/sprites/master/sprites/pokemon/121.png\n",
            "name:mr-mime,hp: 40 attack:45, defense:65, special_attack:100, special_defense:120, speed:90, url:https://raw.githubusercontent.com/PokeAPI/sprites/master/sprites/pokemon/122.png\n",
            "name:scyther,hp: 70 attack:110, defense:80, special_attack:55, special_defense:80, speed:105, url:https://raw.githubusercontent.com/PokeAPI/sprites/master/sprites/pokemon/123.png\n",
            "name:jynx,hp: 65 attack:50, defense:35, special_attack:115, special_defense:95, speed:95, url:https://raw.githubusercontent.com/PokeAPI/sprites/master/sprites/pokemon/124.png\n",
            "name:electabuzz,hp: 65 attack:83, defense:57, special_attack:95, special_defense:85, speed:105, url:https://raw.githubusercontent.com/PokeAPI/sprites/master/sprites/pokemon/125.png\n",
            "name:magmar,hp: 65 attack:95, defense:57, special_attack:100, special_defense:85, speed:93, url:https://raw.githubusercontent.com/PokeAPI/sprites/master/sprites/pokemon/126.png\n",
            "name:pinsir,hp: 65 attack:125, defense:100, special_attack:55, special_defense:70, speed:85, url:https://raw.githubusercontent.com/PokeAPI/sprites/master/sprites/pokemon/127.png\n",
            "name:tauros,hp: 75 attack:100, defense:95, special_attack:40, special_defense:70, speed:110, url:https://raw.githubusercontent.com/PokeAPI/sprites/master/sprites/pokemon/128.png\n",
            "name:magikarp,hp: 20 attack:10, defense:55, special_attack:15, special_defense:20, speed:80, url:https://raw.githubusercontent.com/PokeAPI/sprites/master/sprites/pokemon/129.png\n",
            "name:gyarados,hp: 95 attack:125, defense:79, special_attack:60, special_defense:100, speed:81, url:https://raw.githubusercontent.com/PokeAPI/sprites/master/sprites/pokemon/130.png\n",
            "name:lapras,hp: 130 attack:85, defense:80, special_attack:85, special_defense:95, speed:60, url:https://raw.githubusercontent.com/PokeAPI/sprites/master/sprites/pokemon/131.png\n",
            "name:ditto,hp: 48 attack:48, defense:48, special_attack:48, special_defense:48, speed:48, url:https://raw.githubusercontent.com/PokeAPI/sprites/master/sprites/pokemon/132.png\n",
            "name:eevee,hp: 55 attack:55, defense:50, special_attack:45, special_defense:65, speed:55, url:https://raw.githubusercontent.com/PokeAPI/sprites/master/sprites/pokemon/133.png\n",
            "name:vaporeon,hp: 130 attack:65, defense:60, special_attack:110, special_defense:95, speed:65, url:https://raw.githubusercontent.com/PokeAPI/sprites/master/sprites/pokemon/134.png\n",
            "name:jolteon,hp: 65 attack:65, defense:60, special_attack:110, special_defense:95, speed:130, url:https://raw.githubusercontent.com/PokeAPI/sprites/master/sprites/pokemon/135.png\n",
            "name:flareon,hp: 65 attack:130, defense:60, special_attack:95, special_defense:110, speed:65, url:https://raw.githubusercontent.com/PokeAPI/sprites/master/sprites/pokemon/136.png\n",
            "name:porygon,hp: 65 attack:60, defense:70, special_attack:85, special_defense:75, speed:40, url:https://raw.githubusercontent.com/PokeAPI/sprites/master/sprites/pokemon/137.png\n",
            "name:omanyte,hp: 35 attack:40, defense:100, special_attack:90, special_defense:55, speed:35, url:https://raw.githubusercontent.com/PokeAPI/sprites/master/sprites/pokemon/138.png\n",
            "name:omastar,hp: 70 attack:60, defense:125, special_attack:115, special_defense:70, speed:55, url:https://raw.githubusercontent.com/PokeAPI/sprites/master/sprites/pokemon/139.png\n",
            "name:kabuto,hp: 30 attack:80, defense:90, special_attack:55, special_defense:45, speed:55, url:https://raw.githubusercontent.com/PokeAPI/sprites/master/sprites/pokemon/140.png\n",
            "name:kabutops,hp: 60 attack:115, defense:105, special_attack:65, special_defense:70, speed:80, url:https://raw.githubusercontent.com/PokeAPI/sprites/master/sprites/pokemon/141.png\n",
            "name:aerodactyl,hp: 80 attack:105, defense:65, special_attack:60, special_defense:75, speed:130, url:https://raw.githubusercontent.com/PokeAPI/sprites/master/sprites/pokemon/142.png\n",
            "name:snorlax,hp: 160 attack:110, defense:65, special_attack:65, special_defense:110, speed:30, url:https://raw.githubusercontent.com/PokeAPI/sprites/master/sprites/pokemon/143.png\n",
            "name:articuno,hp: 90 attack:85, defense:100, special_attack:95, special_defense:125, speed:85, url:https://raw.githubusercontent.com/PokeAPI/sprites/master/sprites/pokemon/144.png\n",
            "name:zapdos,hp: 90 attack:90, defense:85, special_attack:125, special_defense:90, speed:100, url:https://raw.githubusercontent.com/PokeAPI/sprites/master/sprites/pokemon/145.png\n",
            "name:moltres,hp: 90 attack:100, defense:90, special_attack:125, special_defense:85, speed:90, url:https://raw.githubusercontent.com/PokeAPI/sprites/master/sprites/pokemon/146.png\n",
            "name:dratini,hp: 41 attack:64, defense:45, special_attack:50, special_defense:50, speed:50, url:https://raw.githubusercontent.com/PokeAPI/sprites/master/sprites/pokemon/147.png\n",
            "name:dragonair,hp: 61 attack:84, defense:65, special_attack:70, special_defense:70, speed:70, url:https://raw.githubusercontent.com/PokeAPI/sprites/master/sprites/pokemon/148.png\n",
            "name:dragonite,hp: 91 attack:134, defense:95, special_attack:100, special_defense:100, speed:80, url:https://raw.githubusercontent.com/PokeAPI/sprites/master/sprites/pokemon/149.png\n",
            "name:mewtwo,hp: 106 attack:110, defense:90, special_attack:154, special_defense:90, speed:130, url:https://raw.githubusercontent.com/PokeAPI/sprites/master/sprites/pokemon/150.png\n",
            "name:mew,hp: 100 attack:100, defense:100, special_attack:100, special_defense:100, speed:100, url:https://raw.githubusercontent.com/PokeAPI/sprites/master/sprites/pokemon/151.png\n"
          ],
          "name": "stdout"
        }
      ]
    }
  ]
}
