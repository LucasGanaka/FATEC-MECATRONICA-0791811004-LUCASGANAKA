{
  "nbformat": 4,
  "nbformat_minor": 0,
  "metadata": {
    "colab": {
      "name": "Aula 10 - Sist. Integrado de Manufatura.ipynb",
      "provenance": [],
      "collapsed_sections": [],
      "authorship_tag": "ABX9TyOXxKHgkj0d+f43oqqSXgOg",
      "include_colab_link": true
    },
    "kernelspec": {
      "name": "python3",
      "display_name": "Python 3"
    }
  },
  "cells": [
    {
      "cell_type": "markdown",
      "metadata": {
        "id": "view-in-github",
        "colab_type": "text"
      },
      "source": [
        "<a href=\"https://colab.research.google.com/github/LucasGanaka/FATEC-MECATRONICA-0791811004-LUCASGANAKA/blob/master/Aula_10_Sist_Integrado_de_Manufatura.ipynb\" target=\"_parent\"><img src=\"https://colab.research.google.com/assets/colab-badge.svg\" alt=\"Open In Colab\"/></a>"
      ]
    },
    {
      "cell_type": "code",
      "metadata": {
        "id": "fFog_nI6Ndnu"
      },
      "source": [
        "#notebook para analise de dados\n",
        "import pandas as pd"
      ],
      "execution_count": 2,
      "outputs": []
    },
    {
      "cell_type": "code",
      "metadata": {
        "id": "IL_YIpSWQ6Tp",
        "outputId": "14b7e5f3-8605-4fa8-a15e-cc0814ab845b",
        "colab": {
          "base_uri": "https://localhost:8080/"
        }
      },
      "source": [
        "#carrega um conjunto de dados para analise\n",
        "#https://dados.gov.br/dataset/beneficios-concedidos\n",
        "!wget --no-check-certificate http://dadosabertos.dataprev.gov.br/storage/f/2020-08-20T17%3A51%3A05.439Z/beneficios-concedidos-12-2018.csv"
      ],
      "execution_count": 3,
      "outputs": [
        {
          "output_type": "stream",
          "text": [
            "--2020-11-07 06:46:42--  http://dadosabertos.dataprev.gov.br/storage/f/2020-08-20T17%3A51%3A05.439Z/beneficios-concedidos-12-2018.csv\n",
            "Resolving dadosabertos.dataprev.gov.br (dadosabertos.dataprev.gov.br)... 200.152.32.122\n",
            "Connecting to dadosabertos.dataprev.gov.br (dadosabertos.dataprev.gov.br)|200.152.32.122|:80... connected.\n",
            "HTTP request sent, awaiting response... 301 Moved Permanently\n",
            "Location: https://dadosabertos.dataprev.gov.br/storage/f/2020-08-20T17%3A51%3A05.439Z/beneficios-concedidos-12-2018.csv [following]\n",
            "--2020-11-07 06:46:43--  https://dadosabertos.dataprev.gov.br/storage/f/2020-08-20T17%3A51%3A05.439Z/beneficios-concedidos-12-2018.csv\n",
            "Connecting to dadosabertos.dataprev.gov.br (dadosabertos.dataprev.gov.br)|200.152.32.122|:443... connected.\n",
            "WARNING: cannot verify dadosabertos.dataprev.gov.br's certificate, issued by ‘CN=AlphaSSL CA - SHA256 - G2,O=GlobalSign nv-sa,C=BE’:\n",
            "  Unable to locally verify the issuer's authority.\n",
            "HTTP request sent, awaiting response... 200 OK\n",
            "Length: 60455337 (58M) [text/csv]\n",
            "Saving to: ‘beneficios-concedidos-12-2018.csv’\n",
            "\n",
            "beneficios-concedid 100%[===================>]  57.65M   542KB/s    in 1m 52s  \n",
            "\n",
            "2020-11-07 06:48:35 (528 KB/s) - ‘beneficios-concedidos-12-2018.csv’ saved [60455337/60455337]\n",
            "\n"
          ],
          "name": "stdout"
        }
      ]
    },
    {
      "cell_type": "code",
      "metadata": {
        "id": "hzOPrDtNS0Np"
      },
      "source": [
        "#Abrir um arquivo csv no Pandas\n",
        "dados_raw = pd.read_csv('/content/beneficios-concedidos-12-2018.csv', \\\n",
        "                        sep=';', encoding = \"ISO-8859-1\")"
      ],
      "execution_count": 4,
      "outputs": []
    },
    {
      "cell_type": "code",
      "metadata": {
        "id": "JxaAmbBVVJcb",
        "outputId": "33a4ad0d-320b-4a38-97c0-835dc7d6ae80",
        "colab": {
          "base_uri": "https://localhost:8080/",
          "height": 670
        }
      },
      "source": [
        "dados_raw"
      ],
      "execution_count": 5,
      "outputs": [
        {
          "output_type": "execute_result",
          "data": {
            "text/html": [
              "<div>\n",
              "<style scoped>\n",
              "    .dataframe tbody tr th:only-of-type {\n",
              "        vertical-align: middle;\n",
              "    }\n",
              "\n",
              "    .dataframe tbody tr th {\n",
              "        vertical-align: top;\n",
              "    }\n",
              "\n",
              "    .dataframe thead th {\n",
              "        text-align: right;\n",
              "    }\n",
              "</style>\n",
              "<table border=\"1\" class=\"dataframe\">\n",
              "  <thead>\n",
              "    <tr style=\"text-align: right;\">\n",
              "      <th></th>\n",
              "      <th>Competência concessão</th>\n",
              "      <th>Espécie</th>\n",
              "      <th>CID</th>\n",
              "      <th>CID.1</th>\n",
              "      <th>Despacho</th>\n",
              "      <th>Dt Nascimento</th>\n",
              "      <th>Sexo.</th>\n",
              "      <th>Clientela</th>\n",
              "      <th>Mun Resid</th>\n",
              "      <th>Vínculo dependentes</th>\n",
              "      <th>Forma Filiação</th>\n",
              "      <th>UF</th>\n",
              "      <th>Qt SM RMI</th>\n",
              "    </tr>\n",
              "  </thead>\n",
              "  <tbody>\n",
              "    <tr>\n",
              "      <th>0</th>\n",
              "      <td>2018-12-01</td>\n",
              "      <td>Pensão por Morte Previdenciária</td>\n",
              "      <td>0</td>\n",
              "      <td>Zerados</td>\n",
              "      <td>Concessao Decorrente de Acao Judicial</td>\n",
              "      <td>22/06/2005</td>\n",
              "      <td>Feminino</td>\n",
              "      <td>Urbano</td>\n",
              "      <td>02043-AL-Maceió</td>\n",
              "      <td>Filho</td>\n",
              "      <td>Empregado</td>\n",
              "      <td>Alagoas</td>\n",
              "      <td>4,326</td>\n",
              "    </tr>\n",
              "    <tr>\n",
              "      <th>1</th>\n",
              "      <td>2018-12-01</td>\n",
              "      <td>Auxílio Salario Maternidade</td>\n",
              "      <td>0</td>\n",
              "      <td>Zerados</td>\n",
              "      <td>Concessao Normal</td>\n",
              "      <td>14/08/1994</td>\n",
              "      <td>Feminino</td>\n",
              "      <td>Rural</td>\n",
              "      <td>03038-AM-São Paulo de Olivença</td>\n",
              "      <td>Filho</td>\n",
              "      <td>Segurado Especial</td>\n",
              "      <td>Amazonas</td>\n",
              "      <td>1</td>\n",
              "    </tr>\n",
              "    <tr>\n",
              "      <th>2</th>\n",
              "      <td>2018-12-01</td>\n",
              "      <td>Aposentadoria por Tempo de Contribuição</td>\n",
              "      <td>0</td>\n",
              "      <td>Zerados</td>\n",
              "      <td>Concessao com Conversao Tempo de Servico</td>\n",
              "      <td>09/12/1959</td>\n",
              "      <td>Masculino</td>\n",
              "      <td>Urbano</td>\n",
              "      <td>04307-BA-Simões Filho</td>\n",
              "      <td>Não Informado</td>\n",
              "      <td>Autônomo</td>\n",
              "      <td>Bahia</td>\n",
              "      <td>1,586</td>\n",
              "    </tr>\n",
              "    <tr>\n",
              "      <th>3</th>\n",
              "      <td>2018-12-01</td>\n",
              "      <td>Auxílio Salario Maternidade</td>\n",
              "      <td>0</td>\n",
              "      <td>Zerados</td>\n",
              "      <td>Concessao Normal</td>\n",
              "      <td>20/08/1981</td>\n",
              "      <td>Feminino</td>\n",
              "      <td>Urbano</td>\n",
              "      <td>04275-BA-Salvador</td>\n",
              "      <td>Filho</td>\n",
              "      <td>Facultativo</td>\n",
              "      <td>Bahia</td>\n",
              "      <td>1</td>\n",
              "    </tr>\n",
              "    <tr>\n",
              "      <th>4</th>\n",
              "      <td>2018-12-01</td>\n",
              "      <td>Pensão por Morte Previdenciária</td>\n",
              "      <td>0</td>\n",
              "      <td>Zerados</td>\n",
              "      <td>Concessao Normal</td>\n",
              "      <td>04/01/1956</td>\n",
              "      <td>Feminino</td>\n",
              "      <td>Urbano</td>\n",
              "      <td>04007-BA-Alagoinhas</td>\n",
              "      <td>Cônjuge</td>\n",
              "      <td>Autônomo</td>\n",
              "      <td>Bahia</td>\n",
              "      <td>1</td>\n",
              "    </tr>\n",
              "    <tr>\n",
              "      <th>...</th>\n",
              "      <td>...</td>\n",
              "      <td>...</td>\n",
              "      <td>...</td>\n",
              "      <td>...</td>\n",
              "      <td>...</td>\n",
              "      <td>...</td>\n",
              "      <td>...</td>\n",
              "      <td>...</td>\n",
              "      <td>...</td>\n",
              "      <td>...</td>\n",
              "      <td>...</td>\n",
              "      <td>...</td>\n",
              "      <td>...</td>\n",
              "    </tr>\n",
              "    <tr>\n",
              "      <th>339429</th>\n",
              "      <td>2018-12-01</td>\n",
              "      <td>Auxílio Doenca Previdenciário</td>\n",
              "      <td>M545</td>\n",
              "      <td>M54.5 Dor Lombar Baixa</td>\n",
              "      <td>Conc. Decorrente Revisao Administrativa</td>\n",
              "      <td>06/01/1990</td>\n",
              "      <td>Masculino</td>\n",
              "      <td>Urbano</td>\n",
              "      <td>28033-TO-Formoso do Araguaia</td>\n",
              "      <td>Filho</td>\n",
              "      <td>Empregado</td>\n",
              "      <td>Tocantins</td>\n",
              "      <td>1,47</td>\n",
              "    </tr>\n",
              "    <tr>\n",
              "      <th>339430</th>\n",
              "      <td>2018-12-01</td>\n",
              "      <td>Amparo Social ao Idoso</td>\n",
              "      <td>0</td>\n",
              "      <td>Zerados</td>\n",
              "      <td>Concessao Normal</td>\n",
              "      <td>01/10/1953</td>\n",
              "      <td>Feminino</td>\n",
              "      <td>Urbano</td>\n",
              "      <td>28011-TO-Arraias</td>\n",
              "      <td>Não Informado</td>\n",
              "      <td>Desempregado</td>\n",
              "      <td>Tocantins</td>\n",
              "      <td>1</td>\n",
              "    </tr>\n",
              "    <tr>\n",
              "      <th>339431</th>\n",
              "      <td>2018-12-01</td>\n",
              "      <td>Auxílio Doenca Previdenciário</td>\n",
              "      <td>S826</td>\n",
              "      <td>S82.6 Frat do Maleolo Lateral</td>\n",
              "      <td>Conc. Base Artigo 27 Inciso Ii do Rbps</td>\n",
              "      <td>25/07/1979</td>\n",
              "      <td>Feminino</td>\n",
              "      <td>Urbano</td>\n",
              "      <td>28008-TO-Araguaína</td>\n",
              "      <td>Não Informado</td>\n",
              "      <td>Empregado</td>\n",
              "      <td>Tocantins</td>\n",
              "      <td>1,389</td>\n",
              "    </tr>\n",
              "    <tr>\n",
              "      <th>339432</th>\n",
              "      <td>2018-12-01</td>\n",
              "      <td>Auxílio Doenca Previdenciário</td>\n",
              "      <td>C931</td>\n",
              "      <td>C93.1 Leucemia Monocitica Cronica</td>\n",
              "      <td>Concessao Normal</td>\n",
              "      <td>15/09/1952</td>\n",
              "      <td>Masculino</td>\n",
              "      <td>Urbano</td>\n",
              "      <td>28021-TO-Colinas do Tocantins</td>\n",
              "      <td>Não Informado</td>\n",
              "      <td>Empregado</td>\n",
              "      <td>Tocantins</td>\n",
              "      <td>2,864</td>\n",
              "    </tr>\n",
              "    <tr>\n",
              "      <th>339433</th>\n",
              "      <td>2018-12-01</td>\n",
              "      <td>Auxílio Doenca Previdenciário</td>\n",
              "      <td></td>\n",
              "      <td>Em Branco</td>\n",
              "      <td>Concessao Decorrente de Acao Judicial</td>\n",
              "      <td>16/04/1965</td>\n",
              "      <td>Masculino</td>\n",
              "      <td>Rural</td>\n",
              "      <td>09132-MA-Estreito</td>\n",
              "      <td>Não Informado</td>\n",
              "      <td>Segurado Especial</td>\n",
              "      <td>Tocantins</td>\n",
              "      <td>1</td>\n",
              "    </tr>\n",
              "  </tbody>\n",
              "</table>\n",
              "<p>339434 rows × 13 columns</p>\n",
              "</div>"
            ],
            "text/plain": [
              "       Competência concessão  ... Qt SM RMI\n",
              "0                 2018-12-01  ...     4,326\n",
              "1                 2018-12-01  ...         1\n",
              "2                 2018-12-01  ...     1,586\n",
              "3                 2018-12-01  ...         1\n",
              "4                 2018-12-01  ...         1\n",
              "...                      ...  ...       ...\n",
              "339429            2018-12-01  ...      1,47\n",
              "339430            2018-12-01  ...         1\n",
              "339431            2018-12-01  ...     1,389\n",
              "339432            2018-12-01  ...     2,864\n",
              "339433            2018-12-01  ...         1\n",
              "\n",
              "[339434 rows x 13 columns]"
            ]
          },
          "metadata": {
            "tags": []
          },
          "execution_count": 5
        }
      ]
    },
    {
      "cell_type": "code",
      "metadata": {
        "id": "rIMgE_W1XB3e",
        "outputId": "07b4a89c-626c-49b3-e061-fdaecebe4f66",
        "colab": {
          "base_uri": "https://localhost:8080/"
        }
      },
      "source": [
        "#Forma dos dados\n",
        "dados_raw.shape"
      ],
      "execution_count": 6,
      "outputs": [
        {
          "output_type": "execute_result",
          "data": {
            "text/plain": [
              "(339434, 13)"
            ]
          },
          "metadata": {
            "tags": []
          },
          "execution_count": 6
        }
      ]
    },
    {
      "cell_type": "code",
      "metadata": {
        "id": "ISejbG53XEd5",
        "outputId": "a2e420a8-1762-4bba-8286-32248f9e1985",
        "colab": {
          "base_uri": "https://localhost:8080/"
        }
      },
      "source": [
        "#Quais são as colunas\n",
        "dados_raw.columns"
      ],
      "execution_count": 7,
      "outputs": [
        {
          "output_type": "execute_result",
          "data": {
            "text/plain": [
              "Index(['Competência concessão', 'Espécie', 'CID', 'CID.1', 'Despacho',\n",
              "       'Dt Nascimento', 'Sexo.', 'Clientela', 'Mun Resid',\n",
              "       'Vínculo dependentes', 'Forma Filiação', 'UF', 'Qt SM RMI'],\n",
              "      dtype='object')"
            ]
          },
          "metadata": {
            "tags": []
          },
          "execution_count": 7
        }
      ]
    },
    {
      "cell_type": "code",
      "metadata": {
        "id": "7SMvx0QgXGtR",
        "outputId": "5f360591-72e3-4402-dd68-db8a9bbcd68b",
        "colab": {
          "base_uri": "https://localhost:8080/",
          "height": 199
        }
      },
      "source": [
        "#Verifica o describe dos dados\n",
        "dados_raw.describe()"
      ],
      "execution_count": 8,
      "outputs": [
        {
          "output_type": "execute_result",
          "data": {
            "text/html": [
              "<div>\n",
              "<style scoped>\n",
              "    .dataframe tbody tr th:only-of-type {\n",
              "        vertical-align: middle;\n",
              "    }\n",
              "\n",
              "    .dataframe tbody tr th {\n",
              "        vertical-align: top;\n",
              "    }\n",
              "\n",
              "    .dataframe thead th {\n",
              "        text-align: right;\n",
              "    }\n",
              "</style>\n",
              "<table border=\"1\" class=\"dataframe\">\n",
              "  <thead>\n",
              "    <tr style=\"text-align: right;\">\n",
              "      <th></th>\n",
              "      <th>Competência concessão</th>\n",
              "      <th>Espécie</th>\n",
              "      <th>CID</th>\n",
              "      <th>CID.1</th>\n",
              "      <th>Despacho</th>\n",
              "      <th>Dt Nascimento</th>\n",
              "      <th>Sexo.</th>\n",
              "      <th>Clientela</th>\n",
              "      <th>Mun Resid</th>\n",
              "      <th>Vínculo dependentes</th>\n",
              "      <th>Forma Filiação</th>\n",
              "      <th>UF</th>\n",
              "      <th>Qt SM RMI</th>\n",
              "    </tr>\n",
              "  </thead>\n",
              "  <tbody>\n",
              "    <tr>\n",
              "      <th>count</th>\n",
              "      <td>339434</td>\n",
              "      <td>339434</td>\n",
              "      <td>339434</td>\n",
              "      <td>339434</td>\n",
              "      <td>339434</td>\n",
              "      <td>339434</td>\n",
              "      <td>339434</td>\n",
              "      <td>339434</td>\n",
              "      <td>339434</td>\n",
              "      <td>339434</td>\n",
              "      <td>339434</td>\n",
              "      <td>339434</td>\n",
              "      <td>339434</td>\n",
              "    </tr>\n",
              "    <tr>\n",
              "      <th>unique</th>\n",
              "      <td>1</td>\n",
              "      <td>24</td>\n",
              "      <td>5327</td>\n",
              "      <td>5281</td>\n",
              "      <td>13</td>\n",
              "      <td>28756</td>\n",
              "      <td>2</td>\n",
              "      <td>2</td>\n",
              "      <td>5545</td>\n",
              "      <td>10</td>\n",
              "      <td>10</td>\n",
              "      <td>27</td>\n",
              "      <td>5523</td>\n",
              "    </tr>\n",
              "    <tr>\n",
              "      <th>top</th>\n",
              "      <td>2018-12-01</td>\n",
              "      <td>Auxílio Doenca Previdenciário</td>\n",
              "      <td>0</td>\n",
              "      <td>Zerados</td>\n",
              "      <td>Concessao Normal</td>\n",
              "      <td>15/12/1958</td>\n",
              "      <td>Feminino</td>\n",
              "      <td>Urbano</td>\n",
              "      <td>21504-SP-São Paulo</td>\n",
              "      <td>Não Informado</td>\n",
              "      <td>Empregado</td>\n",
              "      <td>São Paulo</td>\n",
              "      <td>1</td>\n",
              "    </tr>\n",
              "    <tr>\n",
              "      <th>freq</th>\n",
              "      <td>339434</td>\n",
              "      <td>158713</td>\n",
              "      <td>146082</td>\n",
              "      <td>146080</td>\n",
              "      <td>239442</td>\n",
              "      <td>126</td>\n",
              "      <td>189609</td>\n",
              "      <td>286335</td>\n",
              "      <td>18263</td>\n",
              "      <td>254666</td>\n",
              "      <td>115680</td>\n",
              "      <td>73962</td>\n",
              "      <td>159295</td>\n",
              "    </tr>\n",
              "  </tbody>\n",
              "</table>\n",
              "</div>"
            ],
            "text/plain": [
              "       Competência concessão  ... Qt SM RMI\n",
              "count                 339434  ...    339434\n",
              "unique                     1  ...      5523\n",
              "top               2018-12-01  ...         1\n",
              "freq                  339434  ...    159295\n",
              "\n",
              "[4 rows x 13 columns]"
            ]
          },
          "metadata": {
            "tags": []
          },
          "execution_count": 8
        }
      ]
    },
    {
      "cell_type": "code",
      "metadata": {
        "id": "97sWPg3pXqq_",
        "outputId": "292e79eb-60ac-4c32-90e8-0326b6571b92",
        "colab": {
          "base_uri": "https://localhost:8080/"
        }
      },
      "source": [
        "#Tipo dos dados (nas colunas)\n",
        "dados_raw.dtypes"
      ],
      "execution_count": 9,
      "outputs": [
        {
          "output_type": "execute_result",
          "data": {
            "text/plain": [
              "Competência concessão    object\n",
              "Espécie                  object\n",
              "CID                      object\n",
              "CID.1                    object\n",
              "Despacho                 object\n",
              "Dt Nascimento            object\n",
              "Sexo.                    object\n",
              "Clientela                object\n",
              "Mun Resid                object\n",
              "Vínculo dependentes      object\n",
              "Forma Filiação           object\n",
              "UF                       object\n",
              "Qt SM RMI                object\n",
              "dtype: object"
            ]
          },
          "metadata": {
            "tags": []
          },
          "execution_count": 9
        }
      ]
    },
    {
      "cell_type": "code",
      "metadata": {
        "id": "4rHivf2TYikS"
      },
      "source": [
        "#Converter a coluna 'Qt SM RMI' para float - parte 1\n",
        "#https://en.wikipedia.org/wiki/Regular_expression\n",
        "dados_raw['Qt SM RMI'] = dados_raw['Qt SM RMI'].replace({',':'.'}, regex=True)"
      ],
      "execution_count": 10,
      "outputs": []
    },
    {
      "cell_type": "code",
      "metadata": {
        "id": "QpeHT_7CbjFg"
      },
      "source": [
        "#Converter a coluna 'Qt SM RMI' para float - parte 2\n",
        "dados_raw = dados_raw.astype({'Qt SM RMI':float}, copy=False)"
      ],
      "execution_count": 11,
      "outputs": []
    },
    {
      "cell_type": "code",
      "metadata": {
        "id": "KPdbaR-qdWwI",
        "outputId": "c6966dbf-e650-4e10-d3e4-2af571ffc9e6",
        "colab": {
          "base_uri": "https://localhost:8080/"
        }
      },
      "source": [
        "#Com o valor em formato numérico\n",
        "dados_raw['Qt SM RMI'].describe()"
      ],
      "execution_count": 12,
      "outputs": [
        {
          "output_type": "execute_result",
          "data": {
            "text/plain": [
              "count    339434.000000\n",
              "mean          1.477993\n",
              "std           0.994561\n",
              "min           0.005000\n",
              "25%           1.000000\n",
              "50%           1.019000\n",
              "75%           1.563000\n",
              "max         262.599000\n",
              "Name: Qt SM RMI, dtype: float64"
            ]
          },
          "metadata": {
            "tags": []
          },
          "execution_count": 12
        }
      ]
    },
    {
      "cell_type": "code",
      "metadata": {
        "id": "MnpCbUgqdv8I",
        "outputId": "5f46ba93-e1ac-47db-b979-68edb8ee096c",
        "colab": {
          "base_uri": "https://localhost:8080/",
          "height": 282
        }
      },
      "source": [
        "#Colocar um gráfico sobre os valores de pensão\n",
        "dados_raw['Qt SM RMI'].plot.hist()"
      ],
      "execution_count": 13,
      "outputs": [
        {
          "output_type": "execute_result",
          "data": {
            "text/plain": [
              "<matplotlib.axes._subplots.AxesSubplot at 0x7f973fe2c748>"
            ]
          },
          "metadata": {
            "tags": []
          },
          "execution_count": 13
        },
        {
          "output_type": "display_data",
          "data": {
            "image/png": "[encoded data removed]",
            "text/plain": [
              "<Figure size 432x288 with 1 Axes>"
            ]
          },
          "metadata": {
            "tags": [],
            "needs_background": "light"
          }
        }
      ]
    },
    {
      "cell_type": "code",
      "metadata": {
        "id": "aqUbolAjeJyM",
        "outputId": "c386005e-5f37-4501-c027-50a339ce8f1a",
        "colab": {
          "base_uri": "https://localhost:8080/",
          "height": 500
        }
      },
      "source": [
        "dados_raw.plot(figsize=(20,8)).scatter(x='UF', y='Qt SM RMI')"
      ],
      "execution_count": 14,
      "outputs": [
        {
          "output_type": "execute_result",
          "data": {
            "text/plain": [
              "<matplotlib.collections.PathCollection at 0x7f974028eac8>"
            ]
          },
          "metadata": {
            "tags": []
          },
          "execution_count": 14
        },
        {
          "output_type": "display_data",
          "data": {
            "image/png": "[encoded data removed]",
            "text/plain": [
              "<Figure size 1440x576 with 1 Axes>"
            ]
          },
          "metadata": {
            "tags": [],
            "needs_background": "light"
          }
        }
      ]
    },
    {
      "cell_type": "code",
      "metadata": {
        "id": "0h8Xwn1zel_t",
        "outputId": "02a61ba8-86c0-4b65-c526-f8af8ce926ec",
        "colab": {
          "base_uri": "https://localhost:8080/",
          "height": 110
        }
      },
      "source": [
        "dados_raw[dados_raw['Qt SM RMI'] == 262.599]"
      ],
      "execution_count": null,
      "outputs": [
        {
          "output_type": "execute_result",
          "data": {
            "text/html": [
              "<div>\n",
              "<style scoped>\n",
              "    .dataframe tbody tr th:only-of-type {\n",
              "        vertical-align: middle;\n",
              "    }\n",
              "\n",
              "    .dataframe tbody tr th {\n",
              "        vertical-align: top;\n",
              "    }\n",
              "\n",
              "    .dataframe thead th {\n",
              "        text-align: right;\n",
              "    }\n",
              "</style>\n",
              "<table border=\"1\" class=\"dataframe\">\n",
              "  <thead>\n",
              "    <tr style=\"text-align: right;\">\n",
              "      <th></th>\n",
              "      <th>Competência concessão</th>\n",
              "      <th>Espécie</th>\n",
              "      <th>CID</th>\n",
              "      <th>CID.1</th>\n",
              "      <th>Despacho</th>\n",
              "      <th>Dt Nascimento</th>\n",
              "      <th>Sexo.</th>\n",
              "      <th>Clientela</th>\n",
              "      <th>Mun Resid</th>\n",
              "      <th>Vínculo dependentes</th>\n",
              "      <th>Forma Filiação</th>\n",
              "      <th>UF</th>\n",
              "      <th>Qt SM RMI</th>\n",
              "    </tr>\n",
              "  </thead>\n",
              "  <tbody>\n",
              "    <tr>\n",
              "      <th>286736</th>\n",
              "      <td>2018-12-01</td>\n",
              "      <td>Amparo Social ao Idoso</td>\n",
              "      <td>0</td>\n",
              "      <td>Zerados</td>\n",
              "      <td>Concessao Decorrente de Acao Judicial</td>\n",
              "      <td>26/01/1952</td>\n",
              "      <td>Masculino</td>\n",
              "      <td>Urbano</td>\n",
              "      <td>24004-AC-Cruzeiro do Sul</td>\n",
              "      <td>Não Informado</td>\n",
              "      <td>Desempregado</td>\n",
              "      <td>Acre</td>\n",
              "      <td>262.599</td>\n",
              "    </tr>\n",
              "  </tbody>\n",
              "</table>\n",
              "</div>"
            ],
            "text/plain": [
              "       Competência concessão                 Espécie  ...    UF Qt SM RMI\n",
              "286736            2018-12-01  Amparo Social ao Idoso  ...  Acre   262.599\n",
              "\n",
              "[1 rows x 13 columns]"
            ]
          },
          "metadata": {
            "tags": []
          },
          "execution_count": 39
        }
      ]
    },
    {
      "cell_type": "code",
      "metadata": {
        "id": "SYCm1uZ-gAjU",
        "outputId": "c016b8fb-81ef-4ba6-a5a8-673e507d1b83",
        "colab": {
          "base_uri": "https://localhost:8080/",
          "height": 282
        }
      },
      "source": [
        "dados_raw.boxplot(column=['Qt SM RMI'], showmeans=True)"
      ],
      "execution_count": null,
      "outputs": [
        {
          "output_type": "execute_result",
          "data": {
            "text/plain": [
              "<matplotlib.axes._subplots.AxesSubplot at 0x7fa43129c080>"
            ]
          },
          "metadata": {
            "tags": []
          },
          "execution_count": 40
        },
        {
          "output_type": "display_data",
          "data": {
            "image/png": "[encoded data removed]",
            "text/plain": [
              "<Figure size 432x288 with 1 Axes>"
            ]
          },
          "metadata": {
            "tags": [],
            "needs_background": "light"
          }
        }
      ]
    },
    {
      "cell_type": "code",
      "metadata": {
        "id": "AGEBHeCxhC0k"
      },
      "source": [
        "#https://www.alura.com.br/artigos/como-remover-linhas-e-colunas-no-pandas\n",
        "#dados_filtrados = dados_raw[dados_raw['Qt SM RMI'] < 240]\n",
        "dados_filtrados = dados_raw[dados_raw['Qt SM RMI'] < 10]"
      ],
      "execution_count": null,
      "outputs": []
    },
    {
      "cell_type": "code",
      "metadata": {
        "id": "yu98iC-4hD9O",
        "outputId": "16988574-f04f-4d1c-ccb2-25f6ea77fd41",
        "colab": {
          "base_uri": "https://localhost:8080/",
          "height": 282
        }
      },
      "source": [
        "dados_filtrados.boxplot(column=['Qt SM RMI'], showmeans=True)"
      ],
      "execution_count": null,
      "outputs": [
        {
          "output_type": "execute_result",
          "data": {
            "text/plain": [
              "<matplotlib.axes._subplots.AxesSubplot at 0x7fa4316d0940>"
            ]
          },
          "metadata": {
            "tags": []
          },
          "execution_count": 42
        },
        {
          "output_type": "display_data",
          "data": {
            "image/png": "[encoded data removed]",
            "text/plain": [
              "<Figure size 432x288 with 1 Axes>"
            ]
          },
          "metadata": {
            "tags": [],
            "needs_background": "light"
          }
        }
      ]
    },
    {
      "cell_type": "code",
      "metadata": {
        "id": "Fx0fH9EQhD-x",
        "outputId": "e5d4ebb3-6ac8-4a03-db92-04b881dccb98",
        "colab": {
          "base_uri": "https://localhost:8080/",
          "height": 469
        }
      },
      "source": [
        "dados_raw[dados_raw['Qt SM RMI'] > 10]"
      ],
      "execution_count": 17,
      "outputs": [
        {
          "output_type": "execute_result",
          "data": {
            "text/html": [
              "<div>\n",
              "<style scoped>\n",
              "    .dataframe tbody tr th:only-of-type {\n",
              "        vertical-align: middle;\n",
              "    }\n",
              "\n",
              "    .dataframe tbody tr th {\n",
              "        vertical-align: top;\n",
              "    }\n",
              "\n",
              "    .dataframe thead th {\n",
              "        text-align: right;\n",
              "    }\n",
              "</style>\n",
              "<table border=\"1\" class=\"dataframe\">\n",
              "  <thead>\n",
              "    <tr style=\"text-align: right;\">\n",
              "      <th></th>\n",
              "      <th>Competência concessão</th>\n",
              "      <th>Espécie</th>\n",
              "      <th>CID</th>\n",
              "      <th>CID.1</th>\n",
              "      <th>Despacho</th>\n",
              "      <th>Dt Nascimento</th>\n",
              "      <th>Sexo.</th>\n",
              "      <th>Clientela</th>\n",
              "      <th>Mun Resid</th>\n",
              "      <th>Vínculo dependentes</th>\n",
              "      <th>Forma Filiação</th>\n",
              "      <th>UF</th>\n",
              "      <th>Qt SM RMI</th>\n",
              "    </tr>\n",
              "  </thead>\n",
              "  <tbody>\n",
              "    <tr>\n",
              "      <th>2477</th>\n",
              "      <td>2018-12-01</td>\n",
              "      <td>Auxílio Salario Maternidade</td>\n",
              "      <td>0</td>\n",
              "      <td>Zerados</td>\n",
              "      <td>Concessao Normal</td>\n",
              "      <td>01/07/1977</td>\n",
              "      <td>Feminino</td>\n",
              "      <td>Urbano</td>\n",
              "      <td>03028-AM-Manaus</td>\n",
              "      <td>Filho Adotivo</td>\n",
              "      <td>Empregado</td>\n",
              "      <td>Amazonas</td>\n",
              "      <td>12.153</td>\n",
              "    </tr>\n",
              "    <tr>\n",
              "      <th>74494</th>\n",
              "      <td>2018-12-01</td>\n",
              "      <td>Auxílio Salario Maternidade</td>\n",
              "      <td>0</td>\n",
              "      <td>Zerados</td>\n",
              "      <td>Concessao Normal</td>\n",
              "      <td>13/03/1982</td>\n",
              "      <td>Feminino</td>\n",
              "      <td>Urbano</td>\n",
              "      <td>17010-RJ-Campos dos Goytacazes</td>\n",
              "      <td>Filho Adotivo</td>\n",
              "      <td>Empregado</td>\n",
              "      <td>Rio de Janeiro</td>\n",
              "      <td>15.310</td>\n",
              "    </tr>\n",
              "    <tr>\n",
              "      <th>176807</th>\n",
              "      <td>2018-12-01</td>\n",
              "      <td>Auxílio Salario Maternidade</td>\n",
              "      <td>0</td>\n",
              "      <td>Zerados</td>\n",
              "      <td>Concessao Normal</td>\n",
              "      <td>04/08/1975</td>\n",
              "      <td>Feminino</td>\n",
              "      <td>Urbano</td>\n",
              "      <td>19150-RS-Porto Alegre</td>\n",
              "      <td>Filho Adotivo</td>\n",
              "      <td>Empregado</td>\n",
              "      <td>Rio Grande do Sul</td>\n",
              "      <td>12.753</td>\n",
              "    </tr>\n",
              "    <tr>\n",
              "      <th>176837</th>\n",
              "      <td>2018-12-01</td>\n",
              "      <td>Pensão por Morte de Ex-Combatente</td>\n",
              "      <td>0</td>\n",
              "      <td>Zerados</td>\n",
              "      <td>Concessao Normal</td>\n",
              "      <td>16/01/1950</td>\n",
              "      <td>Masculino</td>\n",
              "      <td>Urbano</td>\n",
              "      <td>19150-RS-Porto Alegre</td>\n",
              "      <td>Filho</td>\n",
              "      <td>Desempregado</td>\n",
              "      <td>Rio Grande do Sul</td>\n",
              "      <td>26.962</td>\n",
              "    </tr>\n",
              "    <tr>\n",
              "      <th>182866</th>\n",
              "      <td>2018-12-01</td>\n",
              "      <td>Auxílio Salario Maternidade</td>\n",
              "      <td>0</td>\n",
              "      <td>Zerados</td>\n",
              "      <td>Concessao Normal</td>\n",
              "      <td>26/05/1975</td>\n",
              "      <td>Feminino</td>\n",
              "      <td>Urbano</td>\n",
              "      <td>21504-SP-São Paulo</td>\n",
              "      <td>Filho Adotivo</td>\n",
              "      <td>Empregado</td>\n",
              "      <td>São Paulo</td>\n",
              "      <td>11.307</td>\n",
              "    </tr>\n",
              "    <tr>\n",
              "      <th>209064</th>\n",
              "      <td>2018-12-01</td>\n",
              "      <td>Auxílio Salario Maternidade</td>\n",
              "      <td>0</td>\n",
              "      <td>Zerados</td>\n",
              "      <td>Concessao Normal</td>\n",
              "      <td>13/10/1990</td>\n",
              "      <td>Masculino</td>\n",
              "      <td>Urbano</td>\n",
              "      <td>08186-GO-Rio Verde</td>\n",
              "      <td>Filho Adotivo</td>\n",
              "      <td>Empregado</td>\n",
              "      <td>Goiás</td>\n",
              "      <td>14.357</td>\n",
              "    </tr>\n",
              "    <tr>\n",
              "      <th>286736</th>\n",
              "      <td>2018-12-01</td>\n",
              "      <td>Amparo Social ao Idoso</td>\n",
              "      <td>0</td>\n",
              "      <td>Zerados</td>\n",
              "      <td>Concessao Decorrente de Acao Judicial</td>\n",
              "      <td>26/01/1952</td>\n",
              "      <td>Masculino</td>\n",
              "      <td>Urbano</td>\n",
              "      <td>24004-AC-Cruzeiro do Sul</td>\n",
              "      <td>Não Informado</td>\n",
              "      <td>Desempregado</td>\n",
              "      <td>Acre</td>\n",
              "      <td>262.599</td>\n",
              "    </tr>\n",
              "    <tr>\n",
              "      <th>319610</th>\n",
              "      <td>2018-12-01</td>\n",
              "      <td>Auxílio Salario Maternidade</td>\n",
              "      <td>0</td>\n",
              "      <td>Zerados</td>\n",
              "      <td>Concessao Normal</td>\n",
              "      <td>09/02/1988</td>\n",
              "      <td>Feminino</td>\n",
              "      <td>Urbano</td>\n",
              "      <td>21504-SP-São Paulo</td>\n",
              "      <td>Filho Adotivo</td>\n",
              "      <td>Empregado</td>\n",
              "      <td>São Paulo</td>\n",
              "      <td>11.352</td>\n",
              "    </tr>\n",
              "  </tbody>\n",
              "</table>\n",
              "</div>"
            ],
            "text/plain": [
              "       Competência concessão  ... Qt SM RMI\n",
              "2477              2018-12-01  ...    12.153\n",
              "74494             2018-12-01  ...    15.310\n",
              "176807            2018-12-01  ...    12.753\n",
              "176837            2018-12-01  ...    26.962\n",
              "182866            2018-12-01  ...    11.307\n",
              "209064            2018-12-01  ...    14.357\n",
              "286736            2018-12-01  ...   262.599\n",
              "319610            2018-12-01  ...    11.352\n",
              "\n",
              "[8 rows x 13 columns]"
            ]
          },
          "metadata": {
            "tags": []
          },
          "execution_count": 17
        }
      ]
    },
    {
      "cell_type": "code",
      "metadata": {
        "id": "wELc-fbAhKUq",
        "outputId": "bed6d9b7-a829-4f30-bb0d-a4985804b3a9",
        "colab": {
          "base_uri": "https://localhost:8080/"
        }
      },
      "source": [
        "dados_raw[dados_raw['Qt SM RMI'] > 10].count()"
      ],
      "execution_count": 16,
      "outputs": [
        {
          "output_type": "execute_result",
          "data": {
            "text/plain": [
              "Competência concessão    8\n",
              "Espécie                  8\n",
              "CID                      8\n",
              "CID.1                    8\n",
              "Despacho                 8\n",
              "Dt Nascimento            8\n",
              "Sexo.                    8\n",
              "Clientela                8\n",
              "Mun Resid                8\n",
              "Vínculo dependentes      8\n",
              "Forma Filiação           8\n",
              "UF                       8\n",
              "Qt SM RMI                8\n",
              "dtype: int64"
            ]
          },
          "metadata": {
            "tags": []
          },
          "execution_count": 16
        }
      ]
    },
    {
      "cell_type": "markdown",
      "metadata": {
        "id": "smq7LPy1tKnC"
      },
      "source": [
        "# **Atividdade**"
      ]
    },
    {
      "cell_type": "code",
      "metadata": {
        "id": "9mjEHlYJq6oY",
        "outputId": "1d30d450-82e9-4cb6-eb86-431bc1f9a219",
        "colab": {
          "base_uri": "https://localhost:8080/"
        }
      },
      "source": [
        "#carrega um conjunto de dados para analise\n",
        "#https://dados.gov.br/dataset/beneficios-concedidos\n",
        "!wget --no-check-certificate http://dadosabertos.dataprev.gov.br/storage/f/2019-03-29T20%3A11%3A16.272Z/concedidos-02-2019.csv"
      ],
      "execution_count": 26,
      "outputs": [
        {
          "output_type": "stream",
          "text": [
            "--2020-11-07 07:10:17--  http://dadosabertos.dataprev.gov.br/storage/f/2019-03-29T20%3A11%3A16.272Z/concedidos-02-2019.csv\n",
            "Resolving dadosabertos.dataprev.gov.br (dadosabertos.dataprev.gov.br)... 200.152.32.122\n",
            "Connecting to dadosabertos.dataprev.gov.br (dadosabertos.dataprev.gov.br)|200.152.32.122|:80... connected.\n",
            "HTTP request sent, awaiting response... 301 Moved Permanently\n",
            "Location: https://dadosabertos.dataprev.gov.br/storage/f/2019-03-29T20%3A11%3A16.272Z/concedidos-02-2019.csv [following]\n",
            "--2020-11-07 07:10:17--  https://dadosabertos.dataprev.gov.br/storage/f/2019-03-29T20%3A11%3A16.272Z/concedidos-02-2019.csv\n",
            "Connecting to dadosabertos.dataprev.gov.br (dadosabertos.dataprev.gov.br)|200.152.32.122|:443... connected.\n",
            "WARNING: cannot verify dadosabertos.dataprev.gov.br's certificate, issued by ‘CN=AlphaSSL CA - SHA256 - G2,O=GlobalSign nv-sa,C=BE’:\n",
            "  Unable to locally verify the issuer's authority.\n",
            "HTTP request sent, awaiting response... 200 OK\n",
            "Length: 76541843 (73M) [text/csv]\n",
            "Saving to: ‘concedidos-02-2019.csv’\n",
            "\n",
            "concedidos-02-2019. 100%[===================>]  73.00M   548KB/s    in 2m 19s  \n",
            "\n",
            "2020-11-07 07:12:36 (539 KB/s) - ‘concedidos-02-2019.csv’ saved [76541843/76541843]\n",
            "\n"
          ],
          "name": "stdout"
        }
      ]
    },
    {
      "cell_type": "code",
      "metadata": {
        "id": "xI8V4qLLsBsN"
      },
      "source": [
        "dados = pd.read_csv(\"/content/concedidos-02-2019.csv\", sep=\";\", encoding=\"ISO-8859-1\")"
      ],
      "execution_count": 27,
      "outputs": []
    },
    {
      "cell_type": "code",
      "metadata": {
        "id": "bhoiricPtpjL",
        "outputId": "c6e9f461-7aa9-464a-a0c0-75baae9d7121",
        "colab": {
          "base_uri": "https://localhost:8080/",
          "height": 603
        }
      },
      "source": [
        "dados"
      ],
      "execution_count": 28,
      "outputs": [
        {
          "output_type": "execute_result",
          "data": {
            "text/html": [
              "<div>\n",
              "<style scoped>\n",
              "    .dataframe tbody tr th:only-of-type {\n",
              "        vertical-align: middle;\n",
              "    }\n",
              "\n",
              "    .dataframe tbody tr th {\n",
              "        vertical-align: top;\n",
              "    }\n",
              "\n",
              "    .dataframe thead th {\n",
              "        text-align: right;\n",
              "    }\n",
              "</style>\n",
              "<table border=\"1\" class=\"dataframe\">\n",
              "  <thead>\n",
              "    <tr style=\"text-align: right;\">\n",
              "      <th></th>\n",
              "      <th>Competência concessão</th>\n",
              "      <th>Espécie</th>\n",
              "      <th>CID</th>\n",
              "      <th>CID.1</th>\n",
              "      <th>Despacho</th>\n",
              "      <th>Dt Nascimento</th>\n",
              "      <th>Sexo.</th>\n",
              "      <th>Clientela</th>\n",
              "      <th>Mun Resid</th>\n",
              "      <th>Vínculo dependentes</th>\n",
              "      <th>Forma Filiação</th>\n",
              "      <th>UF</th>\n",
              "      <th>Qt SM RMI</th>\n",
              "    </tr>\n",
              "  </thead>\n",
              "  <tbody>\n",
              "    <tr>\n",
              "      <th>0</th>\n",
              "      <td>fevereiro/2019</td>\n",
              "      <td>Pensão por Morte Previdenciária</td>\n",
              "      <td>000000</td>\n",
              "      <td>Zerados</td>\n",
              "      <td>Concessao Normal</td>\n",
              "      <td>15/11/1976</td>\n",
              "      <td>Masculino</td>\n",
              "      <td>Urbano</td>\n",
              "      <td>02043-AL-Maceió</td>\n",
              "      <td>Cônjuge</td>\n",
              "      <td>Desempregado</td>\n",
              "      <td>Alagoas</td>\n",
              "      <td>1,000</td>\n",
              "    </tr>\n",
              "    <tr>\n",
              "      <th>1</th>\n",
              "      <td>fevereiro/2019</td>\n",
              "      <td>Aposentadoria por Idade</td>\n",
              "      <td>000000</td>\n",
              "      <td>Zerados</td>\n",
              "      <td>Concessao Normal</td>\n",
              "      <td>25/10/1963</td>\n",
              "      <td>Feminino</td>\n",
              "      <td>Rural</td>\n",
              "      <td>02016-AL-Canapi</td>\n",
              "      <td>Não Informado</td>\n",
              "      <td>Segurado Especial</td>\n",
              "      <td>Alagoas</td>\n",
              "      <td>1,000</td>\n",
              "    </tr>\n",
              "    <tr>\n",
              "      <th>2</th>\n",
              "      <td>fevereiro/2019</td>\n",
              "      <td>Auxílio Salario Maternidade</td>\n",
              "      <td>000000</td>\n",
              "      <td>Zerados</td>\n",
              "      <td>Concessao Normal</td>\n",
              "      <td>23/03/1990</td>\n",
              "      <td>Feminino</td>\n",
              "      <td>Rural</td>\n",
              "      <td>02064-AL-Pão de Açúcar</td>\n",
              "      <td>Filho</td>\n",
              "      <td>Segurado Especial</td>\n",
              "      <td>Alagoas</td>\n",
              "      <td>1,000</td>\n",
              "    </tr>\n",
              "    <tr>\n",
              "      <th>3</th>\n",
              "      <td>fevereiro/2019</td>\n",
              "      <td>Auxílio Doenca Previdenciário</td>\n",
              "      <td>M544</td>\n",
              "      <td>M54.4 Lumbago c/Ciatica</td>\n",
              "      <td>Concessao Normal</td>\n",
              "      <td>03/02/1961</td>\n",
              "      <td>Masculino</td>\n",
              "      <td>Urbano</td>\n",
              "      <td>02029-AL-Girau do Ponciano</td>\n",
              "      <td>Não Informado</td>\n",
              "      <td>Autônomo</td>\n",
              "      <td>Alagoas</td>\n",
              "      <td>1,000</td>\n",
              "    </tr>\n",
              "    <tr>\n",
              "      <th>4</th>\n",
              "      <td>fevereiro/2019</td>\n",
              "      <td>Auxílio Doenca Previdenciário</td>\n",
              "      <td>S01</td>\n",
              "      <td>S01   Ferim da Cabeca</td>\n",
              "      <td>Conc. Base Artigo 27 Inciso Ii do Rbps</td>\n",
              "      <td>25/08/1976</td>\n",
              "      <td>Masculino</td>\n",
              "      <td>Urbano</td>\n",
              "      <td>02003-AL-Arapiraca</td>\n",
              "      <td>Não Informado</td>\n",
              "      <td>Desempregado</td>\n",
              "      <td>Alagoas</td>\n",
              "      <td>1,254</td>\n",
              "    </tr>\n",
              "    <tr>\n",
              "      <th>...</th>\n",
              "      <td>...</td>\n",
              "      <td>...</td>\n",
              "      <td>...</td>\n",
              "      <td>...</td>\n",
              "      <td>...</td>\n",
              "      <td>...</td>\n",
              "      <td>...</td>\n",
              "      <td>...</td>\n",
              "      <td>...</td>\n",
              "      <td>...</td>\n",
              "      <td>...</td>\n",
              "      <td>...</td>\n",
              "      <td>...</td>\n",
              "    </tr>\n",
              "    <tr>\n",
              "      <th>409836</th>\n",
              "      <td>fevereiro/2019</td>\n",
              "      <td>Auxílio Acidente</td>\n",
              "      <td></td>\n",
              "      <td>Em Branco</td>\n",
              "      <td>Concessao Decorrente de Acao Judicial</td>\n",
              "      <td>13/02/1990</td>\n",
              "      <td>Masculino</td>\n",
              "      <td>Urbano</td>\n",
              "      <td>28037-TO-Gurupi</td>\n",
              "      <td>Não Informado</td>\n",
              "      <td>Empregado</td>\n",
              "      <td>Tocantins</td>\n",
              "      <td>0,500</td>\n",
              "    </tr>\n",
              "    <tr>\n",
              "      <th>409837</th>\n",
              "      <td>fevereiro/2019</td>\n",
              "      <td>Auxílio Doenca Previdenciário</td>\n",
              "      <td></td>\n",
              "      <td>Em Branco</td>\n",
              "      <td>Concessao Decorrente de Acao Judicial</td>\n",
              "      <td>13/10/1960</td>\n",
              "      <td>Feminino</td>\n",
              "      <td>Urbano</td>\n",
              "      <td>28037-TO-Gurupi</td>\n",
              "      <td>Não Informado</td>\n",
              "      <td>Facultativo</td>\n",
              "      <td>Tocantins</td>\n",
              "      <td>1,000</td>\n",
              "    </tr>\n",
              "    <tr>\n",
              "      <th>409838</th>\n",
              "      <td>fevereiro/2019</td>\n",
              "      <td>Aposentadoria por Idade</td>\n",
              "      <td>000000</td>\n",
              "      <td>Zerados</td>\n",
              "      <td>Concessao Decorrente de Acao Judicial</td>\n",
              "      <td>12/01/1959</td>\n",
              "      <td>Feminino</td>\n",
              "      <td>Rural</td>\n",
              "      <td>28133-TO-Lavandeira</td>\n",
              "      <td>Não Informado</td>\n",
              "      <td>Segurado Especial</td>\n",
              "      <td>Tocantins</td>\n",
              "      <td>1,000</td>\n",
              "    </tr>\n",
              "    <tr>\n",
              "      <th>409839</th>\n",
              "      <td>fevereiro/2019</td>\n",
              "      <td>Aposentadoria Invalidez Previdenciária</td>\n",
              "      <td>000000</td>\n",
              "      <td>Zerados</td>\n",
              "      <td>Concessao Decorrente de Acao Judicial</td>\n",
              "      <td>06/10/1952</td>\n",
              "      <td>Feminino</td>\n",
              "      <td>Urbano</td>\n",
              "      <td>28080-TO-Novo Alegre</td>\n",
              "      <td>Não Informado</td>\n",
              "      <td>Facultativo</td>\n",
              "      <td>Tocantins</td>\n",
              "      <td>1,000</td>\n",
              "    </tr>\n",
              "    <tr>\n",
              "      <th>409840</th>\n",
              "      <td>fevereiro/2019</td>\n",
              "      <td>Aposentadoria por Idade</td>\n",
              "      <td>000000</td>\n",
              "      <td>Zerados</td>\n",
              "      <td>Concessao Decorrente de Acao Judicial</td>\n",
              "      <td>25/10/1959</td>\n",
              "      <td>Feminino</td>\n",
              "      <td>Rural</td>\n",
              "      <td>28079-TO-Xambioá</td>\n",
              "      <td>Não Informado</td>\n",
              "      <td>Segurado Especial</td>\n",
              "      <td>Tocantins</td>\n",
              "      <td>1,000</td>\n",
              "    </tr>\n",
              "  </tbody>\n",
              "</table>\n",
              "<p>409841 rows × 13 columns</p>\n",
              "</div>"
            ],
            "text/plain": [
              "       Competência concessão  ... Qt SM RMI\n",
              "0             fevereiro/2019  ...     1,000\n",
              "1             fevereiro/2019  ...     1,000\n",
              "2             fevereiro/2019  ...     1,000\n",
              "3             fevereiro/2019  ...     1,000\n",
              "4             fevereiro/2019  ...     1,254\n",
              "...                      ...  ...       ...\n",
              "409836        fevereiro/2019  ...     0,500\n",
              "409837        fevereiro/2019  ...     1,000\n",
              "409838        fevereiro/2019  ...     1,000\n",
              "409839        fevereiro/2019  ...     1,000\n",
              "409840        fevereiro/2019  ...     1,000\n",
              "\n",
              "[409841 rows x 13 columns]"
            ]
          },
          "metadata": {
            "tags": []
          },
          "execution_count": 28
        }
      ]
    },
    {
      "cell_type": "code",
      "metadata": {
        "id": "_wlXG1npttgg",
        "outputId": "f9efbada-4ce1-4f94-a7b0-7b15c89be389",
        "colab": {
          "base_uri": "https://localhost:8080/"
        }
      },
      "source": [
        "#Forma dos dados\n",
        "dados.shape"
      ],
      "execution_count": 29,
      "outputs": [
        {
          "output_type": "execute_result",
          "data": {
            "text/plain": [
              "(409841, 13)"
            ]
          },
          "metadata": {
            "tags": []
          },
          "execution_count": 29
        }
      ]
    },
    {
      "cell_type": "code",
      "metadata": {
        "id": "XqeY2IpsuR7K"
      },
      "source": [
        "#Converter a coluna 'Qt SM RMI' para float - parte 1\n",
        "#https://en.wikipedia.org/wiki/Regular_expression\n",
        "dados['Qt SM RMI'] = dados['Qt SM RMI'].replace({',':'.'}, regex=True)"
      ],
      "execution_count": 31,
      "outputs": []
    },
    {
      "cell_type": "code",
      "metadata": {
        "id": "6MugiOmpuWvi"
      },
      "source": [
        "#Converter a coluna 'Qt SM RMI' para float - parte 2\n",
        "dados = dados.astype({'Qt SM RMI':float}, copy=False)"
      ],
      "execution_count": 32,
      "outputs": []
    },
    {
      "cell_type": "code",
      "metadata": {
        "id": "Y9D086djuaj2",
        "outputId": "2fe5ae17-c642-42c3-c9f8-99044ce12fe5",
        "colab": {
          "base_uri": "https://localhost:8080/"
        }
      },
      "source": [
        "#Com o valor em formato numérico\n",
        "dados['Qt SM RMI'].describe()"
      ],
      "execution_count": 33,
      "outputs": [
        {
          "output_type": "execute_result",
          "data": {
            "text/plain": [
              "count    409841.000000\n",
              "mean          1.458668\n",
              "std           0.859082\n",
              "min           0.028000\n",
              "25%           1.000000\n",
              "50%           1.017000\n",
              "75%           1.536000\n",
              "max          38.189000\n",
              "Name: Qt SM RMI, dtype: float64"
            ]
          },
          "metadata": {
            "tags": []
          },
          "execution_count": 33
        }
      ]
    },
    {
      "cell_type": "code",
      "metadata": {
        "id": "9D6ryWHYugJo",
        "outputId": "bd43a833-6678-47d7-b8a1-db4dde5387ee",
        "colab": {
          "base_uri": "https://localhost:8080/",
          "height": 282
        }
      },
      "source": [
        "#Colocar um gráfico sobre os valores de pensão\n",
        "dados['Qt SM RMI'].plot.hist()"
      ],
      "execution_count": 34,
      "outputs": [
        {
          "output_type": "execute_result",
          "data": {
            "text/plain": [
              "<matplotlib.axes._subplots.AxesSubplot at 0x7f973cabee10>"
            ]
          },
          "metadata": {
            "tags": []
          },
          "execution_count": 34
        },
        {
          "output_type": "display_data",
          "data": {
            "image/png": "[encoded data removed]",
            "text/plain": [
              "<Figure size 432x288 with 1 Axes>"
            ]
          },
          "metadata": {
            "tags": [],
            "needs_background": "light"
          }
        }
      ]
    },
    {
      "cell_type": "code",
      "metadata": {
        "id": "jMnLuLJkumt8",
        "outputId": "9b48cc70-0ada-41f7-968d-9f562095d162",
        "colab": {
          "base_uri": "https://localhost:8080/",
          "height": 500
        }
      },
      "source": [
        "dados.plot(figsize=(20,8)).scatter(x='UF', y='Qt SM RMI')"
      ],
      "execution_count": 35,
      "outputs": [
        {
          "output_type": "execute_result",
          "data": {
            "text/plain": [
              "<matplotlib.collections.PathCollection at 0x7f973d64a710>"
            ]
          },
          "metadata": {
            "tags": []
          },
          "execution_count": 35
        },
        {
          "output_type": "display_data",
          "data": {
            "image/png": "[encoded data removed]",
            "text/plain": [
              "<Figure size 1440x576 with 1 Axes>"
            ]
          },
          "metadata": {
            "tags": [],
            "needs_background": "light"
          }
        }
      ]
    },
    {
      "cell_type": "code",
      "metadata": {
        "id": "fbZAY2mrvfET",
        "outputId": "cf47d9f2-afcc-4996-981d-f28bec4ec1a6",
        "colab": {
          "base_uri": "https://localhost:8080/",
          "height": 286
        }
      },
      "source": [
        "dados.boxplot(column=['Qt SM RMI'], showmeans=True)"
      ],
      "execution_count": 36,
      "outputs": [
        {
          "output_type": "execute_result",
          "data": {
            "text/plain": [
              "<matplotlib.axes._subplots.AxesSubplot at 0x7f973d86aa90>"
            ]
          },
          "metadata": {
            "tags": []
          },
          "execution_count": 36
        },
        {
          "output_type": "display_data",
          "data": {
            "image/png": "[encoded data removed]",
            "text/plain": [
              "<Figure size 432x288 with 1 Axes>"
            ]
          },
          "metadata": {
            "tags": [],
            "needs_background": "light"
          }
        }
      ]
    },
    {
      "cell_type": "code",
      "metadata": {
        "id": "-cL3CdkvvyTI",
        "outputId": "0fa3d46e-49fd-41d3-872e-5c7b90cb7953",
        "colab": {
          "base_uri": "https://localhost:8080/",
          "height": 282
        }
      },
      "source": [
        "dados2 = dados[dados['Qt SM RMI'] < 15]\n",
        "dados2.boxplot(column=[\"Qt SM RMI\"], showmeans=True)"
      ],
      "execution_count": 38,
      "outputs": [
        {
          "output_type": "execute_result",
          "data": {
            "text/plain": [
              "<matplotlib.axes._subplots.AxesSubplot at 0x7f973d97f358>"
            ]
          },
          "metadata": {
            "tags": []
          },
          "execution_count": 38
        },
        {
          "output_type": "display_data",
          "data": {
            "image/png": "[encoded data removed]",
            "text/plain": [
              "<Figure size 432x288 with 1 Axes>"
            ]
          },
          "metadata": {
            "tags": [],
            "needs_background": "light"
          }
        }
      ]
    },
    {
      "cell_type": "code",
      "metadata": {
        "id": "fZsTSwxBv49B",
        "outputId": "8a85f329-a5c2-47e4-9d23-59f2f9e1891b",
        "colab": {
          "base_uri": "https://localhost:8080/",
          "height": 586
        }
      },
      "source": [
        "dados[dados['Vínculo dependentes'] == \"Filho Adotivo\"]"
      ],
      "execution_count": 39,
      "outputs": [
        {
          "output_type": "execute_result",
          "data": {
            "text/html": [
              "<div>\n",
              "<style scoped>\n",
              "    .dataframe tbody tr th:only-of-type {\n",
              "        vertical-align: middle;\n",
              "    }\n",
              "\n",
              "    .dataframe tbody tr th {\n",
              "        vertical-align: top;\n",
              "    }\n",
              "\n",
              "    .dataframe thead th {\n",
              "        text-align: right;\n",
              "    }\n",
              "</style>\n",
              "<table border=\"1\" class=\"dataframe\">\n",
              "  <thead>\n",
              "    <tr style=\"text-align: right;\">\n",
              "      <th></th>\n",
              "      <th>Competência concessão</th>\n",
              "      <th>Espécie</th>\n",
              "      <th>CID</th>\n",
              "      <th>CID.1</th>\n",
              "      <th>Despacho</th>\n",
              "      <th>Dt Nascimento</th>\n",
              "      <th>Sexo.</th>\n",
              "      <th>Clientela</th>\n",
              "      <th>Mun Resid</th>\n",
              "      <th>Vínculo dependentes</th>\n",
              "      <th>Forma Filiação</th>\n",
              "      <th>UF</th>\n",
              "      <th>Qt SM RMI</th>\n",
              "    </tr>\n",
              "  </thead>\n",
              "  <tbody>\n",
              "    <tr>\n",
              "      <th>278</th>\n",
              "      <td>fevereiro/2019</td>\n",
              "      <td>Auxílio Salario Maternidade</td>\n",
              "      <td>000000</td>\n",
              "      <td>Zerados</td>\n",
              "      <td>Concessao Normal</td>\n",
              "      <td>18/05/1972</td>\n",
              "      <td>Feminino</td>\n",
              "      <td>Urbano</td>\n",
              "      <td>26002-RO-Porto Velho</td>\n",
              "      <td>Filho Adotivo</td>\n",
              "      <td>Empregado</td>\n",
              "      <td>Amazonas</td>\n",
              "      <td>6.462</td>\n",
              "    </tr>\n",
              "    <tr>\n",
              "      <th>3626</th>\n",
              "      <td>fevereiro/2019</td>\n",
              "      <td>Auxílio Salario Maternidade</td>\n",
              "      <td>000000</td>\n",
              "      <td>Zerados</td>\n",
              "      <td>Concessao Normal</td>\n",
              "      <td>10/04/1969</td>\n",
              "      <td>Feminino</td>\n",
              "      <td>Urbano</td>\n",
              "      <td>11062-MG-Belo Horizonte</td>\n",
              "      <td>Filho Adotivo</td>\n",
              "      <td>Autônomo</td>\n",
              "      <td>Minas Gerais</td>\n",
              "      <td>1.017</td>\n",
              "    </tr>\n",
              "    <tr>\n",
              "      <th>4178</th>\n",
              "      <td>fevereiro/2019</td>\n",
              "      <td>Auxílio Salario Maternidade</td>\n",
              "      <td>000000</td>\n",
              "      <td>Zerados</td>\n",
              "      <td>Concessao Normal</td>\n",
              "      <td>14/11/1975</td>\n",
              "      <td>Feminino</td>\n",
              "      <td>Urbano</td>\n",
              "      <td>11067-MG-Betim</td>\n",
              "      <td>Filho Adotivo</td>\n",
              "      <td>Empregado</td>\n",
              "      <td>Minas Gerais</td>\n",
              "      <td>3.390</td>\n",
              "    </tr>\n",
              "    <tr>\n",
              "      <th>6333</th>\n",
              "      <td>fevereiro/2019</td>\n",
              "      <td>Auxílio Salario Maternidade</td>\n",
              "      <td>000000</td>\n",
              "      <td>Zerados</td>\n",
              "      <td>Concessao Normal</td>\n",
              "      <td>25/09/1977</td>\n",
              "      <td>Feminino</td>\n",
              "      <td>Urbano</td>\n",
              "      <td>14068-PR-Curitiba</td>\n",
              "      <td>Filho Adotivo</td>\n",
              "      <td>Empregado</td>\n",
              "      <td>Paraná</td>\n",
              "      <td>3.983</td>\n",
              "    </tr>\n",
              "    <tr>\n",
              "      <th>11085</th>\n",
              "      <td>fevereiro/2019</td>\n",
              "      <td>Auxílio Salario Maternidade</td>\n",
              "      <td>000000</td>\n",
              "      <td>Zerados</td>\n",
              "      <td>Concessao Normal</td>\n",
              "      <td>28/11/1980</td>\n",
              "      <td>Feminino</td>\n",
              "      <td>Urbano</td>\n",
              "      <td>20082-SC-Itapema</td>\n",
              "      <td>Filho Adotivo</td>\n",
              "      <td>Autônomo</td>\n",
              "      <td>Santa Catarina</td>\n",
              "      <td>1.020</td>\n",
              "    </tr>\n",
              "    <tr>\n",
              "      <th>...</th>\n",
              "      <td>...</td>\n",
              "      <td>...</td>\n",
              "      <td>...</td>\n",
              "      <td>...</td>\n",
              "      <td>...</td>\n",
              "      <td>...</td>\n",
              "      <td>...</td>\n",
              "      <td>...</td>\n",
              "      <td>...</td>\n",
              "      <td>...</td>\n",
              "      <td>...</td>\n",
              "      <td>...</td>\n",
              "      <td>...</td>\n",
              "    </tr>\n",
              "    <tr>\n",
              "      <th>391664</th>\n",
              "      <td>fevereiro/2019</td>\n",
              "      <td>Auxílio Salario Maternidade</td>\n",
              "      <td>000000</td>\n",
              "      <td>Zerados</td>\n",
              "      <td>Concessao Normal</td>\n",
              "      <td>09/08/1982</td>\n",
              "      <td>Feminino</td>\n",
              "      <td>Urbano</td>\n",
              "      <td>21526-SP-Suzano</td>\n",
              "      <td>Filho Adotivo</td>\n",
              "      <td>Empregado</td>\n",
              "      <td>São Paulo</td>\n",
              "      <td>8.311</td>\n",
              "    </tr>\n",
              "    <tr>\n",
              "      <th>394475</th>\n",
              "      <td>fevereiro/2019</td>\n",
              "      <td>Auxílio Salario Maternidade</td>\n",
              "      <td>000000</td>\n",
              "      <td>Zerados</td>\n",
              "      <td>Concessao Normal</td>\n",
              "      <td>03/12/1977</td>\n",
              "      <td>Feminino</td>\n",
              "      <td>Urbano</td>\n",
              "      <td>21388-SP-Piracicaba</td>\n",
              "      <td>Filho Adotivo</td>\n",
              "      <td>Empregado</td>\n",
              "      <td>São Paulo</td>\n",
              "      <td>5.858</td>\n",
              "    </tr>\n",
              "    <tr>\n",
              "      <th>399973</th>\n",
              "      <td>fevereiro/2019</td>\n",
              "      <td>Auxílio Salario Maternidade</td>\n",
              "      <td>000000</td>\n",
              "      <td>Zerados</td>\n",
              "      <td>Concessao Normal</td>\n",
              "      <td>18/03/1981</td>\n",
              "      <td>Feminino</td>\n",
              "      <td>Urbano</td>\n",
              "      <td>21500-SP-São José dos Campos</td>\n",
              "      <td>Filho Adotivo</td>\n",
              "      <td>Empregado</td>\n",
              "      <td>São Paulo</td>\n",
              "      <td>10.204</td>\n",
              "    </tr>\n",
              "    <tr>\n",
              "      <th>405596</th>\n",
              "      <td>fevereiro/2019</td>\n",
              "      <td>Auxílio Salario Maternidade</td>\n",
              "      <td>000000</td>\n",
              "      <td>Zerados</td>\n",
              "      <td>Concessao Normal</td>\n",
              "      <td>31/12/1977</td>\n",
              "      <td>Feminino</td>\n",
              "      <td>Urbano</td>\n",
              "      <td>18042-RN-Governador Dixpt Rosado</td>\n",
              "      <td>Filho Adotivo</td>\n",
              "      <td>Autônomo</td>\n",
              "      <td>Distrito Federal</td>\n",
              "      <td>1.018</td>\n",
              "    </tr>\n",
              "    <tr>\n",
              "      <th>407458</th>\n",
              "      <td>fevereiro/2019</td>\n",
              "      <td>Auxílio Salario Maternidade</td>\n",
              "      <td>000000</td>\n",
              "      <td>Zerados</td>\n",
              "      <td>Concessao Normal</td>\n",
              "      <td>17/08/1975</td>\n",
              "      <td>Feminino</td>\n",
              "      <td>Urbano</td>\n",
              "      <td>20013-SC-Araquari</td>\n",
              "      <td>Filho Adotivo</td>\n",
              "      <td>Autônomo</td>\n",
              "      <td>Distrito Federal</td>\n",
              "      <td>1.000</td>\n",
              "    </tr>\n",
              "  </tbody>\n",
              "</table>\n",
              "<p>116 rows × 13 columns</p>\n",
              "</div>"
            ],
            "text/plain": [
              "       Competência concessão  ... Qt SM RMI\n",
              "278           fevereiro/2019  ...     6.462\n",
              "3626          fevereiro/2019  ...     1.017\n",
              "4178          fevereiro/2019  ...     3.390\n",
              "6333          fevereiro/2019  ...     3.983\n",
              "11085         fevereiro/2019  ...     1.020\n",
              "...                      ...  ...       ...\n",
              "391664        fevereiro/2019  ...     8.311\n",
              "394475        fevereiro/2019  ...     5.858\n",
              "399973        fevereiro/2019  ...    10.204\n",
              "405596        fevereiro/2019  ...     1.018\n",
              "407458        fevereiro/2019  ...     1.000\n",
              "\n",
              "[116 rows x 13 columns]"
            ]
          },
          "metadata": {
            "tags": []
          },
          "execution_count": 39
        }
      ]
    },
    {
      "cell_type": "code",
      "metadata": {
        "id": "noL8JgdNwEl7",
        "outputId": "0f135836-1cf9-4084-da50-ab01b1bcd491",
        "colab": {
          "base_uri": "https://localhost:8080/",
          "height": 402
        }
      },
      "source": [
        "dados_group = dados.groupby('Vínculo dependentes')\n",
        "dados_group.describe()"
      ],
      "execution_count": 40,
      "outputs": [
        {
          "output_type": "execute_result",
          "data": {
            "text/html": [
              "<div>\n",
              "<style scoped>\n",
              "    .dataframe tbody tr th:only-of-type {\n",
              "        vertical-align: middle;\n",
              "    }\n",
              "\n",
              "    .dataframe tbody tr th {\n",
              "        vertical-align: top;\n",
              "    }\n",
              "\n",
              "    .dataframe thead tr th {\n",
              "        text-align: left;\n",
              "    }\n",
              "\n",
              "    .dataframe thead tr:last-of-type th {\n",
              "        text-align: right;\n",
              "    }\n",
              "</style>\n",
              "<table border=\"1\" class=\"dataframe\">\n",
              "  <thead>\n",
              "    <tr>\n",
              "      <th></th>\n",
              "      <th colspan=\"8\" halign=\"left\">Qt SM RMI</th>\n",
              "    </tr>\n",
              "    <tr>\n",
              "      <th></th>\n",
              "      <th>count</th>\n",
              "      <th>mean</th>\n",
              "      <th>std</th>\n",
              "      <th>min</th>\n",
              "      <th>25%</th>\n",
              "      <th>50%</th>\n",
              "      <th>75%</th>\n",
              "      <th>max</th>\n",
              "    </tr>\n",
              "    <tr>\n",
              "      <th>Vínculo dependentes</th>\n",
              "      <th></th>\n",
              "      <th></th>\n",
              "      <th></th>\n",
              "      <th></th>\n",
              "      <th></th>\n",
              "      <th></th>\n",
              "      <th></th>\n",
              "      <th></th>\n",
              "    </tr>\n",
              "  </thead>\n",
              "  <tbody>\n",
              "    <tr>\n",
              "      <th>Companheiro</th>\n",
              "      <td>4887.0</td>\n",
              "      <td>1.563792</td>\n",
              "      <td>0.991921</td>\n",
              "      <td>0.484</td>\n",
              "      <td>1.000</td>\n",
              "      <td>1.0000</td>\n",
              "      <td>1.75500</td>\n",
              "      <td>8.796</td>\n",
              "    </tr>\n",
              "    <tr>\n",
              "      <th>Cônjuge</th>\n",
              "      <td>19304.0</td>\n",
              "      <td>1.644162</td>\n",
              "      <td>1.048698</td>\n",
              "      <td>0.500</td>\n",
              "      <td>1.000</td>\n",
              "      <td>1.0000</td>\n",
              "      <td>1.96800</td>\n",
              "      <td>27.762</td>\n",
              "    </tr>\n",
              "    <tr>\n",
              "      <th>Dep. Judicial</th>\n",
              "      <td>89.0</td>\n",
              "      <td>2.428472</td>\n",
              "      <td>1.911688</td>\n",
              "      <td>0.499</td>\n",
              "      <td>1.000</td>\n",
              "      <td>1.4550</td>\n",
              "      <td>3.32100</td>\n",
              "      <td>8.220</td>\n",
              "    </tr>\n",
              "    <tr>\n",
              "      <th>Designado</th>\n",
              "      <td>84.0</td>\n",
              "      <td>1.994536</td>\n",
              "      <td>1.729883</td>\n",
              "      <td>0.776</td>\n",
              "      <td>1.000</td>\n",
              "      <td>1.0865</td>\n",
              "      <td>2.01475</td>\n",
              "      <td>8.326</td>\n",
              "    </tr>\n",
              "    <tr>\n",
              "      <th>Ex-Cônjuge</th>\n",
              "      <td>361.0</td>\n",
              "      <td>3.303535</td>\n",
              "      <td>1.879668</td>\n",
              "      <td>0.538</td>\n",
              "      <td>1.857</td>\n",
              "      <td>2.9880</td>\n",
              "      <td>4.23400</td>\n",
              "      <td>10.730</td>\n",
              "    </tr>\n",
              "    <tr>\n",
              "      <th>Filho</th>\n",
              "      <td>79582.0</td>\n",
              "      <td>1.370500</td>\n",
              "      <td>0.729522</td>\n",
              "      <td>0.400</td>\n",
              "      <td>1.000</td>\n",
              "      <td>1.0160</td>\n",
              "      <td>1.42800</td>\n",
              "      <td>10.010</td>\n",
              "    </tr>\n",
              "    <tr>\n",
              "      <th>Filho Adotivo</th>\n",
              "      <td>116.0</td>\n",
              "      <td>3.102422</td>\n",
              "      <td>4.474081</td>\n",
              "      <td>1.000</td>\n",
              "      <td>1.016</td>\n",
              "      <td>1.5865</td>\n",
              "      <td>3.38100</td>\n",
              "      <td>38.189</td>\n",
              "    </tr>\n",
              "    <tr>\n",
              "      <th>Irmão</th>\n",
              "      <td>1.0</td>\n",
              "      <td>2.822000</td>\n",
              "      <td>NaN</td>\n",
              "      <td>2.822</td>\n",
              "      <td>2.822</td>\n",
              "      <td>2.8220</td>\n",
              "      <td>2.82200</td>\n",
              "      <td>2.822</td>\n",
              "    </tr>\n",
              "    <tr>\n",
              "      <th>Não Informado</th>\n",
              "      <td>305296.0</td>\n",
              "      <td>1.464862</td>\n",
              "      <td>0.861821</td>\n",
              "      <td>0.028</td>\n",
              "      <td>1.000</td>\n",
              "      <td>1.0210</td>\n",
              "      <td>1.54600</td>\n",
              "      <td>8.833</td>\n",
              "    </tr>\n",
              "    <tr>\n",
              "      <th>Pai/Mãe</th>\n",
              "      <td>121.0</td>\n",
              "      <td>1.801802</td>\n",
              "      <td>1.189195</td>\n",
              "      <td>0.681</td>\n",
              "      <td>1.000</td>\n",
              "      <td>1.3720</td>\n",
              "      <td>1.93600</td>\n",
              "      <td>7.850</td>\n",
              "    </tr>\n",
              "  </tbody>\n",
              "</table>\n",
              "</div>"
            ],
            "text/plain": [
              "                    Qt SM RMI                      ...                         \n",
              "                        count      mean       std  ...     50%      75%     max\n",
              "Vínculo dependentes                                ...                         \n",
              "Companheiro            4887.0  1.563792  0.991921  ...  1.0000  1.75500   8.796\n",
              "Cônjuge               19304.0  1.644162  1.048698  ...  1.0000  1.96800  27.762\n",
              "Dep. Judicial            89.0  2.428472  1.911688  ...  1.4550  3.32100   8.220\n",
              "Designado                84.0  1.994536  1.729883  ...  1.0865  2.01475   8.326\n",
              "Ex-Cônjuge              361.0  3.303535  1.879668  ...  2.9880  4.23400  10.730\n",
              "Filho                 79582.0  1.370500  0.729522  ...  1.0160  1.42800  10.010\n",
              "Filho Adotivo           116.0  3.102422  4.474081  ...  1.5865  3.38100  38.189\n",
              "Irmão                     1.0  2.822000       NaN  ...  2.8220  2.82200   2.822\n",
              "Não Informado        305296.0  1.464862  0.861821  ...  1.0210  1.54600   8.833\n",
              "Pai/Mãe                 121.0  1.801802  1.189195  ...  1.3720  1.93600   7.850\n",
              "\n",
              "[10 rows x 8 columns]"
            ]
          },
          "metadata": {
            "tags": []
          },
          "execution_count": 40
        }
      ]
    },
    {
      "cell_type": "code",
      "metadata": {
        "id": "ZiqgBiswjouI",
        "outputId": "1d67a1e4-bbb4-4c4e-f514-e055b9a17aae",
        "colab": {
          "base_uri": "https://localhost:8080/",
          "height": 462
        }
      },
      "source": [
        "dados_group2 = dados.groupby('Despacho')\n",
        "dados_group2.describe()"
      ],
      "execution_count": 41,
      "outputs": [
        {
          "output_type": "execute_result",
          "data": {
            "text/html": [
              "<div>\n",
              "<style scoped>\n",
              "    .dataframe tbody tr th:only-of-type {\n",
              "        vertical-align: middle;\n",
              "    }\n",
              "\n",
              "    .dataframe tbody tr th {\n",
              "        vertical-align: top;\n",
              "    }\n",
              "\n",
              "    .dataframe thead tr th {\n",
              "        text-align: left;\n",
              "    }\n",
              "\n",
              "    .dataframe thead tr:last-of-type th {\n",
              "        text-align: right;\n",
              "    }\n",
              "</style>\n",
              "<table border=\"1\" class=\"dataframe\">\n",
              "  <thead>\n",
              "    <tr>\n",
              "      <th></th>\n",
              "      <th colspan=\"8\" halign=\"left\">Qt SM RMI</th>\n",
              "    </tr>\n",
              "    <tr>\n",
              "      <th></th>\n",
              "      <th>count</th>\n",
              "      <th>mean</th>\n",
              "      <th>std</th>\n",
              "      <th>min</th>\n",
              "      <th>25%</th>\n",
              "      <th>50%</th>\n",
              "      <th>75%</th>\n",
              "      <th>max</th>\n",
              "    </tr>\n",
              "    <tr>\n",
              "      <th>Despacho</th>\n",
              "      <th></th>\n",
              "      <th></th>\n",
              "      <th></th>\n",
              "      <th></th>\n",
              "      <th></th>\n",
              "      <th></th>\n",
              "      <th></th>\n",
              "      <th></th>\n",
              "    </tr>\n",
              "  </thead>\n",
              "  <tbody>\n",
              "    <tr>\n",
              "      <th>Conc. Base Artigo 27 Inciso Ii do Rbps</th>\n",
              "      <td>60109.0</td>\n",
              "      <td>1.462129</td>\n",
              "      <td>0.737261</td>\n",
              "      <td>1.000</td>\n",
              "      <td>1.0000</td>\n",
              "      <td>1.174</td>\n",
              "      <td>1.59300</td>\n",
              "      <td>5.385</td>\n",
              "    </tr>\n",
              "    <tr>\n",
              "      <th>Conc. Decorrente Revisao Administrativa</th>\n",
              "      <td>5208.0</td>\n",
              "      <td>1.293619</td>\n",
              "      <td>0.756693</td>\n",
              "      <td>0.500</td>\n",
              "      <td>1.0000</td>\n",
              "      <td>1.000</td>\n",
              "      <td>1.16025</td>\n",
              "      <td>12.424</td>\n",
              "    </tr>\n",
              "    <tr>\n",
              "      <th>Conc. com Base Artigo 35 da Lei 8213/91</th>\n",
              "      <td>3719.0</td>\n",
              "      <td>0.995698</td>\n",
              "      <td>0.046186</td>\n",
              "      <td>0.500</td>\n",
              "      <td>1.0000</td>\n",
              "      <td>1.000</td>\n",
              "      <td>1.00000</td>\n",
              "      <td>1.000</td>\n",
              "    </tr>\n",
              "    <tr>\n",
              "      <th>Conc. com Base no Artigo 180 do Rbps</th>\n",
              "      <td>57.0</td>\n",
              "      <td>1.174807</td>\n",
              "      <td>0.569430</td>\n",
              "      <td>1.000</td>\n",
              "      <td>1.0000</td>\n",
              "      <td>1.000</td>\n",
              "      <td>1.00000</td>\n",
              "      <td>3.788</td>\n",
              "    </tr>\n",
              "    <tr>\n",
              "      <th>Conc. com Base no Artigo 183 do Rbps</th>\n",
              "      <td>299.0</td>\n",
              "      <td>1.002425</td>\n",
              "      <td>0.032387</td>\n",
              "      <td>1.000</td>\n",
              "      <td>1.0000</td>\n",
              "      <td>1.000</td>\n",
              "      <td>1.00000</td>\n",
              "      <td>1.523</td>\n",
              "    </tr>\n",
              "    <tr>\n",
              "      <th>Conc. s/Verificacao da Perda Qualidade</th>\n",
              "      <td>141.0</td>\n",
              "      <td>1.275809</td>\n",
              "      <td>0.767184</td>\n",
              "      <td>1.000</td>\n",
              "      <td>1.0000</td>\n",
              "      <td>1.000</td>\n",
              "      <td>1.00000</td>\n",
              "      <td>5.328</td>\n",
              "    </tr>\n",
              "    <tr>\n",
              "      <th>Concessao Decorrente de Acao Judicial</th>\n",
              "      <td>45467.0</td>\n",
              "      <td>1.330678</td>\n",
              "      <td>0.811800</td>\n",
              "      <td>0.028</td>\n",
              "      <td>1.0000</td>\n",
              "      <td>1.000</td>\n",
              "      <td>1.25400</td>\n",
              "      <td>8.833</td>\n",
              "    </tr>\n",
              "    <tr>\n",
              "      <th>Concessao Normal</th>\n",
              "      <td>289061.0</td>\n",
              "      <td>1.471317</td>\n",
              "      <td>0.873882</td>\n",
              "      <td>0.080</td>\n",
              "      <td>1.0000</td>\n",
              "      <td>1.018</td>\n",
              "      <td>1.55200</td>\n",
              "      <td>38.189</td>\n",
              "    </tr>\n",
              "    <tr>\n",
              "      <th>Concessao c/Justificacao Administrativa</th>\n",
              "      <td>50.0</td>\n",
              "      <td>1.444880</td>\n",
              "      <td>0.816774</td>\n",
              "      <td>1.000</td>\n",
              "      <td>1.0000</td>\n",
              "      <td>1.000</td>\n",
              "      <td>1.54850</td>\n",
              "      <td>4.265</td>\n",
              "    </tr>\n",
              "    <tr>\n",
              "      <th>Concessao com Conversao Tempo de Servico</th>\n",
              "      <td>3572.0</td>\n",
              "      <td>2.452758</td>\n",
              "      <td>1.320585</td>\n",
              "      <td>0.196</td>\n",
              "      <td>1.3540</td>\n",
              "      <td>2.120</td>\n",
              "      <td>3.20375</td>\n",
              "      <td>5.918</td>\n",
              "    </tr>\n",
              "    <tr>\n",
              "      <th>Concessao com Diligencia (Rd ou Sp)</th>\n",
              "      <td>19.0</td>\n",
              "      <td>2.098526</td>\n",
              "      <td>1.399456</td>\n",
              "      <td>1.000</td>\n",
              "      <td>1.0015</td>\n",
              "      <td>1.518</td>\n",
              "      <td>2.68200</td>\n",
              "      <td>5.298</td>\n",
              "    </tr>\n",
              "    <tr>\n",
              "      <th>Concessao em Fase Recursal</th>\n",
              "      <td>2139.0</td>\n",
              "      <td>1.997374</td>\n",
              "      <td>1.323165</td>\n",
              "      <td>0.500</td>\n",
              "      <td>1.0000</td>\n",
              "      <td>1.310</td>\n",
              "      <td>2.70850</td>\n",
              "      <td>8.093</td>\n",
              "    </tr>\n",
              "  </tbody>\n",
              "</table>\n",
              "</div>"
            ],
            "text/plain": [
              "                                         Qt SM RMI            ...                 \n",
              "                                             count      mean  ...      75%     max\n",
              "Despacho                                                      ...                 \n",
              "Conc. Base Artigo 27 Inciso Ii do Rbps     60109.0  1.462129  ...  1.59300   5.385\n",
              "Conc. Decorrente Revisao Administrativa     5208.0  1.293619  ...  1.16025  12.424\n",
              "Conc. com Base Artigo 35 da Lei 8213/91     3719.0  0.995698  ...  1.00000   1.000\n",
              "Conc. com Base no Artigo 180 do Rbps          57.0  1.174807  ...  1.00000   3.788\n",
              "Conc. com Base no Artigo 183 do Rbps         299.0  1.002425  ...  1.00000   1.523\n",
              "Conc. s/Verificacao da Perda Qualidade       141.0  1.275809  ...  1.00000   5.328\n",
              "Concessao Decorrente de Acao Judicial      45467.0  1.330678  ...  1.25400   8.833\n",
              "Concessao Normal                          289061.0  1.471317  ...  1.55200  38.189\n",
              "Concessao c/Justificacao Administrativa       50.0  1.444880  ...  1.54850   4.265\n",
              "Concessao com Conversao Tempo de Servico    3572.0  2.452758  ...  3.20375   5.918\n",
              "Concessao com Diligencia (Rd ou Sp)           19.0  2.098526  ...  2.68200   5.298\n",
              "Concessao em Fase Recursal                  2139.0  1.997374  ...  2.70850   8.093\n",
              "\n",
              "[12 rows x 8 columns]"
            ]
          },
          "metadata": {
            "tags": []
          },
          "execution_count": 41
        }
      ]
    },
    {
      "cell_type": "code",
      "metadata": {
        "id": "WMFPvqNtjsKf",
        "outputId": "cfb04b15-60e8-4c0b-cdd1-82c43a060b0c",
        "colab": {
          "base_uri": "https://localhost:8080/",
          "height": 166
        }
      },
      "source": [
        "dados_group3 = dados.groupby('Sexo.')\n",
        "dados_group3.describe()"
      ],
      "execution_count": 42,
      "outputs": [
        {
          "output_type": "execute_result",
          "data": {
            "text/html": [
              "<div>\n",
              "<style scoped>\n",
              "    .dataframe tbody tr th:only-of-type {\n",
              "        vertical-align: middle;\n",
              "    }\n",
              "\n",
              "    .dataframe tbody tr th {\n",
              "        vertical-align: top;\n",
              "    }\n",
              "\n",
              "    .dataframe thead tr th {\n",
              "        text-align: left;\n",
              "    }\n",
              "\n",
              "    .dataframe thead tr:last-of-type th {\n",
              "        text-align: right;\n",
              "    }\n",
              "</style>\n",
              "<table border=\"1\" class=\"dataframe\">\n",
              "  <thead>\n",
              "    <tr>\n",
              "      <th></th>\n",
              "      <th colspan=\"8\" halign=\"left\">Qt SM RMI</th>\n",
              "    </tr>\n",
              "    <tr>\n",
              "      <th></th>\n",
              "      <th>count</th>\n",
              "      <th>mean</th>\n",
              "      <th>std</th>\n",
              "      <th>min</th>\n",
              "      <th>25%</th>\n",
              "      <th>50%</th>\n",
              "      <th>75%</th>\n",
              "      <th>max</th>\n",
              "    </tr>\n",
              "    <tr>\n",
              "      <th>Sexo.</th>\n",
              "      <th></th>\n",
              "      <th></th>\n",
              "      <th></th>\n",
              "      <th></th>\n",
              "      <th></th>\n",
              "      <th></th>\n",
              "      <th></th>\n",
              "      <th></th>\n",
              "    </tr>\n",
              "  </thead>\n",
              "  <tbody>\n",
              "    <tr>\n",
              "      <th>Feminino</th>\n",
              "      <td>225344.0</td>\n",
              "      <td>1.341805</td>\n",
              "      <td>0.782631</td>\n",
              "      <td>0.136</td>\n",
              "      <td>1.0</td>\n",
              "      <td>1.000</td>\n",
              "      <td>1.288</td>\n",
              "      <td>38.189</td>\n",
              "    </tr>\n",
              "    <tr>\n",
              "      <th>Masculino</th>\n",
              "      <td>184497.0</td>\n",
              "      <td>1.601403</td>\n",
              "      <td>0.924267</td>\n",
              "      <td>0.028</td>\n",
              "      <td>1.0</td>\n",
              "      <td>1.219</td>\n",
              "      <td>1.817</td>\n",
              "      <td>8.833</td>\n",
              "    </tr>\n",
              "  </tbody>\n",
              "</table>\n",
              "</div>"
            ],
            "text/plain": [
              "          Qt SM RMI                                                      \n",
              "              count      mean       std    min  25%    50%    75%     max\n",
              "Sexo.                                                                    \n",
              "Feminino   225344.0  1.341805  0.782631  0.136  1.0  1.000  1.288  38.189\n",
              "Masculino  184497.0  1.601403  0.924267  0.028  1.0  1.219  1.817   8.833"
            ]
          },
          "metadata": {
            "tags": []
          },
          "execution_count": 42
        }
      ]
    }
  ]
}