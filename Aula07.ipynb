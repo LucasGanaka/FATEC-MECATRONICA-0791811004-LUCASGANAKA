{
  "nbformat": 4,
  "nbformat_minor": 0,
  "metadata": {
    "colab": {
      "name": "Aula07.ipynb",
      "provenance": [],
      "collapsed_sections": [],
      "authorship_tag": "ABX9TyMCMW3naN1p9uMlef+8AZUN",
      "include_colab_link": true
    },
    "kernelspec": {
      "name": "python3",
      "display_name": "Python 3"
    }
  },
  "cells": [
    {
      "cell_type": "markdown",
      "metadata": {
        "id": "view-in-github",
        "colab_type": "text"
      },
      "source": [
        "<a href=\"https://colab.research.google.com/github/LucasGanaka/FATEC-MECATRONICA-0791811004-LUCASGANAKA/blob/master/Aula07.ipynb\" target=\"_parent\"><img src=\"https://colab.research.google.com/assets/colab-badge.svg\" alt=\"Open In Colab\"/></a>"
      ]
    },
    {
      "cell_type": "code",
      "metadata": {
        "id": "HmqaVOgwFqPY",
        "colab_type": "code",
        "colab": {}
      },
      "source": [
        "class Usuario():\n",
        "  def __init__(self, nick, senha, email, tipo):\n",
        "    self.nick = nick\n",
        "    self.senha = senha\n",
        "    self.email = email\n",
        "    self.tipo = tipo\n",
        "    "
      ],
      "execution_count": 73,
      "outputs": []
    },
    {
      "cell_type": "code",
      "metadata": {
        "id": "-AGSm3X7GcMt",
        "colab_type": "code",
        "colab": {}
      },
      "source": [
        "class Jogo():\n",
        "  def __init__(self, id, nome, plataforma, genero, quantidade, custo, valor_de_venda):\n",
        "    self.id = id\n",
        "    self.nome = nome\n",
        "    self.plataforma = plataforma\n",
        "    self.genero = genero\n",
        "    self.quantidade = quantidade\n",
        "    self.custo =custo\n",
        "    self.valor_de_venda = valor_de_venda"
      ],
      "execution_count": 74,
      "outputs": []
    },
    {
      "cell_type": "code",
      "metadata": {
        "id": "j1_Jgv9pG5ci",
        "colab_type": "code",
        "colab": {}
      },
      "source": [
        "class Venda():\n",
        "  def __init__(self, id, nick, id_jogo, quantidade):\n",
        "    self.id = id\n",
        "    self.nick = nick\n",
        "    self.id_jogo = id_jogo\n",
        "    self.quantidade = quantidade "
      ],
      "execution_count": 75,
      "outputs": []
    },
    {
      "cell_type": "code",
      "metadata": {
        "id": "8VMjDBOFJgG2",
        "colab_type": "code",
        "colab": {}
      },
      "source": [
        "#DAO - Data Acess Object - serve para ligar banco de dados com codigo\n",
        "class UsuarioDAO():\n",
        "  def buscarUsuario(nick, senha):\n",
        "    #conectar ao banco\n",
        "    conn = sqlite3.connect('rato_que_ri.db')\n",
        "    #Acesso ao banco por um cursor\n",
        "    cursor = conn.cursor()\n",
        "    #prepara string de busca\n",
        "    cursor.execute('''SELECT * FROM Usuarios WHERE nick=? AND senha=? ''', (nick,senha))\n",
        "    usuario = None\n",
        "    for linha in cursor.fetchall():\n",
        "      usuario =  Usuario(linha[0],linha[1], linha[2], linha[3])\n",
        "    conn.close()\n",
        "    return usuario\n",
        "\n"
      ],
      "execution_count": 70,
      "outputs": []
    },
    {
      "cell_type": "code",
      "metadata": {
        "id": "E6vumuIXRLsF",
        "colab_type": "code",
        "colab": {}
      },
      "source": [
        "class JogosDAO():\n",
        "  def buscarTodosOsJogos():\n",
        "    conn = sqlite3.connect('rato_que_ri.db')\n",
        "    cursor = conn.cursor()\n",
        "    cursor.execute('''SELECT * FROM Jogos''')\n",
        "    jogos = []\n",
        "    for linha in cursor.fetchall():\n",
        "      jogos.append(Jogo(linha[0], linha[1], linha[2], linha[3], linha[4], linha[5], linha[6]))\n",
        "    conn.close()\n",
        "    return jogos\n",
        "  def cadastrarJogo(jogo):\n",
        "    conn = sqlite3.connect('rato_que_ri.db')\n",
        "    cursor = conn.cursor()\n",
        "    cursor.execute('''INSERT INTO Jogos VALUES (?,?,?,?,?,?,?);''',(jogo.id, jogo.nome, \\\n",
        "                                                                   jogo.plataforma, jogo.genero, jogo.quantidade, \\\n",
        "                                                                   jogo.custo, jogo.valor_de_venda))\n",
        "    conn.commit()\n",
        "    conn.close()\n",
        "\n",
        "  def buscargenero(genero):\n",
        "    conn = sqlite3.connect('rato_que_ri.db')\n",
        "    cursor = conn.cursor()\n",
        "    cursor.execute('''SELECT * FROM Jogos WHERE genero = \"{}\";'''.format(genero))\n",
        "    jogos = []\n",
        "    for linha in cursor.fetchall():\n",
        "      jogos.append(Jogo(linha[0], linha[1], linha[2], linha[3], linha[4], linha[5], linha[6]))\n",
        "      return jogos\n",
        "    \n"
      ],
      "execution_count": 93,
      "outputs": []
    },
    {
      "cell_type": "code",
      "metadata": {
        "id": "KLjGymv2IBon",
        "colab_type": "code",
        "colab": {
          "base_uri": "https://localhost:8080/",
          "height": 370
        },
        "outputId": "991c8918-12ec-45fa-9366-d904e464197c"
      },
      "source": [
        "#Sistema rodando\n",
        "import sqlite3\n",
        "\n",
        "def menu():\n",
        "  print('1 - Mostrar todos os jogos')\n",
        "  if usuario.tipo == 'dono':\n",
        "    print('2 - cadastrar jogo')\n",
        "  print('0 - Sair')\n",
        "  print('3 - escolher genero')\n",
        "\n",
        "def cadastrarJogo():\n",
        "  id = int(input('Id do jogo: '))\n",
        "  nome = input('Nome do jogo: ')\n",
        "  plataforma = input('plataforma: ')\n",
        "  genero = input('genero: ')\n",
        "  quantidade = int(input(\"quantidade:\"))\n",
        "  custo = float(input(\"custo:\"))\n",
        "  valor_de_venda = float(input(\"Valor de venda: \"))\n",
        "  JogosDAO.cadastrarJogo( Jogo(id, nome, plataforma, genero, quantidade, custo, valor_de_venda))\n",
        "\n",
        "def mostrarListaDeJogos():\n",
        "  print('Lista de Jogos')\n",
        "  print('ID\\tNome\\tPlataforma\\tQuantidade\\tvalor')\n",
        "  for jogo in JogosDAO.buscarTodosOsJogos():\n",
        "    print(\"{}\\t{}\\t{}\\t{}\\t{}\".format(jogo.id, jogo.nome, jogo.plataforma, jogo.genero, jogo.quantidade, jogo.valor_de_venda) )\n",
        "\n",
        "def mostrarListaPorGenero():\n",
        " genero = input('genero:')\n",
        " print('Lista de jogos')\n",
        " print('ID\\tNome\\tPlataforma\\tQuantidade\\tvalor')\n",
        " for jogo in JogosDAO.buscargenero(genero):\n",
        "   print(\"{}\\t{}\\t{}\\t{}\\t{}\".format(jogo.id, jogo.nome, jogo.plataforma, jogo.genero, jogo.quantidade, jogo.valor_de_venda) )\n",
        "\n",
        "\n",
        "\n",
        "#Usuario atual\n",
        "usuario = None\n",
        "\n",
        "#Loop infinito\n",
        "continuar = True\n",
        "\n",
        "while continuar:\n",
        "  if usuario == None:\n",
        "    print('Nenhum Usuario Logado')\n",
        "    nick = input('Informe seu nick:')\n",
        "    senha = input('Informe sua senha:')\n",
        "    usuario = UsuarioDAO.buscarUsuario(nick, senha)\n",
        "  else:\n",
        "    print('Sistema Rato que Ri:')\n",
        "    print('Usuario Logado:', usuario.nick)\n",
        "    menu()\n",
        "    opcao = input('Opcao desejada: ')\n",
        "    if opcao == '1':\n",
        "      mostrarListaDeJogos()\n",
        "    elif opcao == '0':\n",
        "      break\n",
        "    elif opcao == '2':\n",
        "      cadastrarJogo()\n",
        "    elif opcao == '3':\n",
        "      mostrarListaPorGenero()"
      ],
      "execution_count": 94,
      "outputs": [
        {
          "output_type": "stream",
          "text": [
            "Nenhum Usuario Logado\n",
            "Informe seu nick:dono\n",
            "Informe sua senha:dono\n",
            "Sistema Rato que Ri:\n",
            "Usuario Logado: dono\n",
            "1 - Mostrar todos os jogos\n",
            "2 - cadastrar jogo\n",
            "0 - Sair\n",
            "3 - escolher genero\n",
            "Opcao desejada: 3\n",
            "genero:RPG\n",
            "Lista de jogos\n",
            "ID\tNome\tPlataforma\tQuantidade\tvalor\n",
            "1000\tPokemon Escudo\tSwitch\tRPG\t5\n",
            "Sistema Rato que Ri:\n",
            "Usuario Logado: dono\n",
            "1 - Mostrar todos os jogos\n",
            "2 - cadastrar jogo\n",
            "0 - Sair\n",
            "3 - escolher genero\n",
            "Opcao desejada: 0\n"
          ],
          "name": "stdout"
        }
      ]
    }
  ]
}